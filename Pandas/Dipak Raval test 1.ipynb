{
 "cells": [
  {
   "cell_type": "code",
   "execution_count": 1,
   "id": "e45ecee6",
   "metadata": {},
   "outputs": [],
   "source": [
    "import numpy as np\n",
    "import pandas as pd"
   ]
  },
  {
   "cell_type": "markdown",
   "id": "2926a1ad",
   "metadata": {},
   "source": [
    "## 1. Extract all odd numbers from arr"
   ]
  },
  {
   "cell_type": "code",
   "execution_count": 7,
   "id": "a0a422a2",
   "metadata": {},
   "outputs": [
    {
     "data": {
      "text/plain": [
       "array([1, 3, 5, 7, 9])"
      ]
     },
     "execution_count": 7,
     "metadata": {},
     "output_type": "execute_result"
    }
   ],
   "source": [
    "arr1 = np.array([0, 1, 2, 3, 4, 5, 6, 7, 8, 9])\n",
    "arr1[arr1 % 2 == 1]"
   ]
  },
  {
   "cell_type": "markdown",
   "id": "685e5d4a",
   "metadata": {},
   "source": [
    "## 2. Replace all odd numbers in arr with -1"
   ]
  },
  {
   "cell_type": "code",
   "execution_count": 10,
   "id": "e35acc5e",
   "metadata": {},
   "outputs": [
    {
     "data": {
      "text/plain": [
       "array([ 0, -1,  2, -1,  4, -1,  6, -1,  8, -1])"
      ]
     },
     "execution_count": 10,
     "metadata": {},
     "output_type": "execute_result"
    }
   ],
   "source": [
    "arr2 = np.array([0, 1, 2, 3, 4, 5, 6, 7, 8, 9])\n",
    "arr2[arr2 % 2 == 1] = -1\n",
    "arr2"
   ]
  },
  {
   "cell_type": "markdown",
   "id": "6e95d47c",
   "metadata": {},
   "source": [
    "## 3. Convert a 1D array to a 2D array with 2 rows"
   ]
  },
  {
   "cell_type": "code",
   "execution_count": 15,
   "id": "791f1cef",
   "metadata": {},
   "outputs": [
    {
     "data": {
      "text/plain": [
       "array([[0, 1, 2, 3, 4],\n",
       "       [5, 6, 7, 8, 9]])"
      ]
     },
     "execution_count": 15,
     "metadata": {},
     "output_type": "execute_result"
    }
   ],
   "source": [
    "arr3 = np.array([0, 1, 2, 3, 4, 5, 6, 7, 8, 9])\n",
    "arr3 = arr3.reshape(2,5)\n",
    "arr3"
   ]
  },
  {
   "cell_type": "markdown",
   "id": "02e17920",
   "metadata": {},
   "source": [
    "## 4. Get the common items between a and b"
   ]
  },
  {
   "cell_type": "code",
   "execution_count": 17,
   "id": "4558507b",
   "metadata": {},
   "outputs": [
    {
     "data": {
      "text/plain": [
       "array([2, 4])"
      ]
     },
     "execution_count": 17,
     "metadata": {},
     "output_type": "execute_result"
    }
   ],
   "source": [
    "a = np.array([1,2,3,2,3,4,3,4,5,6])\n",
    "b = np.array([7,2,10,2,7,4,9,4,9,8])\n",
    "\n",
    "np.intersect1d(a,b)"
   ]
  },
  {
   "cell_type": "markdown",
   "id": "3080aef8",
   "metadata": {},
   "source": [
    "## 5. Create a 2D array containing random floats between 5 and 10."
   ]
  },
  {
   "cell_type": "markdown",
   "id": "0c7e173c",
   "metadata": {},
   "source": [
    "arr5 = np.linspace(5,10,8)\n",
    "arr5 = arr5.reshape(2,4)\n",
    "arr5"
   ]
  },
  {
   "cell_type": "markdown",
   "id": "2da517dc",
   "metadata": {},
   "source": [
    "## 6. Write a Pandas program to create and display a DataFrame from a specified dictionary data which."
   ]
  },
  {
   "cell_type": "code",
   "execution_count": 32,
   "id": "0189d3da",
   "metadata": {},
   "outputs": [
    {
     "data": {
      "text/html": [
       "<div>\n",
       "<style scoped>\n",
       "    .dataframe tbody tr th:only-of-type {\n",
       "        vertical-align: middle;\n",
       "    }\n",
       "\n",
       "    .dataframe tbody tr th {\n",
       "        vertical-align: top;\n",
       "    }\n",
       "\n",
       "    .dataframe thead th {\n",
       "        text-align: right;\n",
       "    }\n",
       "</style>\n",
       "<table border=\"1\" class=\"dataframe\">\n",
       "  <thead>\n",
       "    <tr style=\"text-align: right;\">\n",
       "      <th></th>\n",
       "      <th>name</th>\n",
       "      <th>score</th>\n",
       "      <th>attempts</th>\n",
       "      <th>qualify</th>\n",
       "    </tr>\n",
       "  </thead>\n",
       "  <tbody>\n",
       "    <tr>\n",
       "      <th>a</th>\n",
       "      <td>Anastasia</td>\n",
       "      <td>12.5</td>\n",
       "      <td>1.0</td>\n",
       "      <td>yes</td>\n",
       "    </tr>\n",
       "    <tr>\n",
       "      <th>b</th>\n",
       "      <td>Dima</td>\n",
       "      <td>9.0</td>\n",
       "      <td>3.0</td>\n",
       "      <td>no</td>\n",
       "    </tr>\n",
       "    <tr>\n",
       "      <th>c</th>\n",
       "      <td>Katherine</td>\n",
       "      <td>NaN</td>\n",
       "      <td>2.0</td>\n",
       "      <td>yes</td>\n",
       "    </tr>\n",
       "    <tr>\n",
       "      <th>d</th>\n",
       "      <td>James</td>\n",
       "      <td>NaN</td>\n",
       "      <td>3.0</td>\n",
       "      <td>no</td>\n",
       "    </tr>\n",
       "    <tr>\n",
       "      <th>e</th>\n",
       "      <td>Emily</td>\n",
       "      <td>9.0</td>\n",
       "      <td>2.0</td>\n",
       "      <td>no</td>\n",
       "    </tr>\n",
       "    <tr>\n",
       "      <th>f</th>\n",
       "      <td>Michael</td>\n",
       "      <td>20.0</td>\n",
       "      <td>3.0</td>\n",
       "      <td>yes</td>\n",
       "    </tr>\n",
       "    <tr>\n",
       "      <th>g</th>\n",
       "      <td>Matthew</td>\n",
       "      <td>14.5</td>\n",
       "      <td>1.0</td>\n",
       "      <td>yes</td>\n",
       "    </tr>\n",
       "    <tr>\n",
       "      <th>h</th>\n",
       "      <td>Laura</td>\n",
       "      <td>NaN</td>\n",
       "      <td>1.0</td>\n",
       "      <td>no</td>\n",
       "    </tr>\n",
       "    <tr>\n",
       "      <th>i</th>\n",
       "      <td>Kevin</td>\n",
       "      <td>8.0</td>\n",
       "      <td>2.0</td>\n",
       "      <td>no</td>\n",
       "    </tr>\n",
       "    <tr>\n",
       "      <th>j</th>\n",
       "      <td>Jonas</td>\n",
       "      <td>19.0</td>\n",
       "      <td>1.0</td>\n",
       "      <td>yes</td>\n",
       "    </tr>\n",
       "    <tr>\n",
       "      <th>k</th>\n",
       "      <td>NaN</td>\n",
       "      <td>NaN</td>\n",
       "      <td>NaN</td>\n",
       "      <td>NaN</td>\n",
       "    </tr>\n",
       "  </tbody>\n",
       "</table>\n",
       "</div>"
      ],
      "text/plain": [
       "        name  score  attempts qualify\n",
       "a  Anastasia   12.5       1.0     yes\n",
       "b       Dima    9.0       3.0      no\n",
       "c  Katherine    NaN       2.0     yes\n",
       "d      James    NaN       3.0      no\n",
       "e      Emily    9.0       2.0      no\n",
       "f    Michael   20.0       3.0     yes\n",
       "g    Matthew   14.5       1.0     yes\n",
       "h      Laura    NaN       1.0      no\n",
       "i      Kevin    8.0       2.0      no\n",
       "j      Jonas   19.0       1.0     yes\n",
       "k        NaN    NaN       NaN     NaN"
      ]
     },
     "execution_count": 32,
     "metadata": {},
     "output_type": "execute_result"
    }
   ],
   "source": [
    "data = {\n",
    "    \"name\" : [\"Anastasia\",\"Dima\",\"Katherine\",\"James\",\"Emily\",\"Michael\",\"Matthew\",\"Laura\",\"Kevin\",\"Jonas\",np.nan],\n",
    "    \"score\" : [12.5,9.0,np.nan,np.nan,9.0,20.0,14.5,np.nan,8.0,19.0,np.nan],\n",
    "    \"attempts\" : [1.0,3.0,2.0,3.0,2.0,3.0,1.0,1.0,2.0,1.0,np.nan],\n",
    "    \"qualify\" : [\"yes\",\"no\",\"yes\",\"no\",\"no\",\"yes\",\"yes\",\"no\",\"no\",\"yes\",np.nan]\n",
    "}\n",
    "df = pd.DataFrame(data,index=[\"a\",\"b\",\"c\",\"d\",\"e\",\"f\",\"g\",\"h\",\"i\",\"j\",\"k\"])\n",
    "df"
   ]
  },
  {
   "cell_type": "markdown",
   "id": "ea6eb599",
   "metadata": {},
   "source": [
    "## 7. Write a Pandas program to get the first 3 rows of a given DataFrame."
   ]
  },
  {
   "cell_type": "code",
   "execution_count": 34,
   "id": "bc55391d",
   "metadata": {
    "scrolled": true
   },
   "outputs": [
    {
     "data": {
      "text/html": [
       "<div>\n",
       "<style scoped>\n",
       "    .dataframe tbody tr th:only-of-type {\n",
       "        vertical-align: middle;\n",
       "    }\n",
       "\n",
       "    .dataframe tbody tr th {\n",
       "        vertical-align: top;\n",
       "    }\n",
       "\n",
       "    .dataframe thead th {\n",
       "        text-align: right;\n",
       "    }\n",
       "</style>\n",
       "<table border=\"1\" class=\"dataframe\">\n",
       "  <thead>\n",
       "    <tr style=\"text-align: right;\">\n",
       "      <th></th>\n",
       "      <th>name</th>\n",
       "      <th>score</th>\n",
       "      <th>attempts</th>\n",
       "      <th>qualify</th>\n",
       "      <th>exam date</th>\n",
       "    </tr>\n",
       "  </thead>\n",
       "  <tbody>\n",
       "    <tr>\n",
       "      <th>a</th>\n",
       "      <td>Anastasia</td>\n",
       "      <td>12.5</td>\n",
       "      <td>1.0</td>\n",
       "      <td>yes</td>\n",
       "      <td>17/05/2002</td>\n",
       "    </tr>\n",
       "    <tr>\n",
       "      <th>b</th>\n",
       "      <td>Dima</td>\n",
       "      <td>9.0</td>\n",
       "      <td>3.0</td>\n",
       "      <td>no</td>\n",
       "      <td>17/05/2002</td>\n",
       "    </tr>\n",
       "    <tr>\n",
       "      <th>c</th>\n",
       "      <td>Katherine</td>\n",
       "      <td>NaN</td>\n",
       "      <td>2.0</td>\n",
       "      <td>yes</td>\n",
       "      <td>17/05/2002</td>\n",
       "    </tr>\n",
       "  </tbody>\n",
       "</table>\n",
       "</div>"
      ],
      "text/plain": [
       "        name  score  attempts qualify   exam date\n",
       "a  Anastasia   12.5       1.0     yes  17/05/2002\n",
       "b       Dima    9.0       3.0      no  17/05/2002\n",
       "c  Katherine    NaN       2.0     yes  17/05/2002"
      ]
     },
     "execution_count": 34,
     "metadata": {},
     "output_type": "execute_result"
    }
   ],
   "source": [
    "df.head(3)"
   ]
  },
  {
   "cell_type": "markdown",
   "id": "c7433fbf",
   "metadata": {},
   "source": [
    "## 8. Write a Pandas program to select the 'name' and 'score' columns from the following DataFrame."
   ]
  },
  {
   "cell_type": "code",
   "execution_count": 39,
   "id": "052def60",
   "metadata": {},
   "outputs": [
    {
     "data": {
      "text/html": [
       "<div>\n",
       "<style scoped>\n",
       "    .dataframe tbody tr th:only-of-type {\n",
       "        vertical-align: middle;\n",
       "    }\n",
       "\n",
       "    .dataframe tbody tr th {\n",
       "        vertical-align: top;\n",
       "    }\n",
       "\n",
       "    .dataframe thead th {\n",
       "        text-align: right;\n",
       "    }\n",
       "</style>\n",
       "<table border=\"1\" class=\"dataframe\">\n",
       "  <thead>\n",
       "    <tr style=\"text-align: right;\">\n",
       "      <th></th>\n",
       "      <th>name</th>\n",
       "      <th>score</th>\n",
       "    </tr>\n",
       "  </thead>\n",
       "  <tbody>\n",
       "    <tr>\n",
       "      <th>a</th>\n",
       "      <td>Anastasia</td>\n",
       "      <td>12.5</td>\n",
       "    </tr>\n",
       "    <tr>\n",
       "      <th>b</th>\n",
       "      <td>Dima</td>\n",
       "      <td>9.0</td>\n",
       "    </tr>\n",
       "    <tr>\n",
       "      <th>c</th>\n",
       "      <td>Katherine</td>\n",
       "      <td>NaN</td>\n",
       "    </tr>\n",
       "    <tr>\n",
       "      <th>d</th>\n",
       "      <td>James</td>\n",
       "      <td>NaN</td>\n",
       "    </tr>\n",
       "    <tr>\n",
       "      <th>e</th>\n",
       "      <td>Emily</td>\n",
       "      <td>9.0</td>\n",
       "    </tr>\n",
       "    <tr>\n",
       "      <th>f</th>\n",
       "      <td>Michael</td>\n",
       "      <td>20.0</td>\n",
       "    </tr>\n",
       "    <tr>\n",
       "      <th>g</th>\n",
       "      <td>Matthew</td>\n",
       "      <td>14.5</td>\n",
       "    </tr>\n",
       "    <tr>\n",
       "      <th>h</th>\n",
       "      <td>Laura</td>\n",
       "      <td>NaN</td>\n",
       "    </tr>\n",
       "    <tr>\n",
       "      <th>i</th>\n",
       "      <td>Kevin</td>\n",
       "      <td>8.0</td>\n",
       "    </tr>\n",
       "    <tr>\n",
       "      <th>j</th>\n",
       "      <td>Jonas</td>\n",
       "      <td>19.0</td>\n",
       "    </tr>\n",
       "    <tr>\n",
       "      <th>k</th>\n",
       "      <td>NaN</td>\n",
       "      <td>NaN</td>\n",
       "    </tr>\n",
       "  </tbody>\n",
       "</table>\n",
       "</div>"
      ],
      "text/plain": [
       "        name  score\n",
       "a  Anastasia   12.5\n",
       "b       Dima    9.0\n",
       "c  Katherine    NaN\n",
       "d      James    NaN\n",
       "e      Emily    9.0\n",
       "f    Michael   20.0\n",
       "g    Matthew   14.5\n",
       "h      Laura    NaN\n",
       "i      Kevin    8.0\n",
       "j      Jonas   19.0\n",
       "k        NaN    NaN"
      ]
     },
     "execution_count": 39,
     "metadata": {},
     "output_type": "execute_result"
    }
   ],
   "source": [
    "df[[\"name\",\"score\"]]"
   ]
  },
  {
   "cell_type": "markdown",
   "id": "6f0cb538",
   "metadata": {},
   "source": [
    "## 9. Write a Pandas program to select the specified columns and rows from a given data frame."
   ]
  },
  {
   "cell_type": "code",
   "execution_count": 78,
   "id": "6e367899",
   "metadata": {},
   "outputs": [
    {
     "data": {
      "text/html": [
       "<div>\n",
       "<style scoped>\n",
       "    .dataframe tbody tr th:only-of-type {\n",
       "        vertical-align: middle;\n",
       "    }\n",
       "\n",
       "    .dataframe tbody tr th {\n",
       "        vertical-align: top;\n",
       "    }\n",
       "\n",
       "    .dataframe thead th {\n",
       "        text-align: right;\n",
       "    }\n",
       "</style>\n",
       "<table border=\"1\" class=\"dataframe\">\n",
       "  <thead>\n",
       "    <tr style=\"text-align: right;\">\n",
       "      <th></th>\n",
       "      <th>name</th>\n",
       "      <th>score</th>\n",
       "    </tr>\n",
       "  </thead>\n",
       "  <tbody>\n",
       "    <tr>\n",
       "      <th>a</th>\n",
       "      <td>Anastasia</td>\n",
       "      <td>12.5</td>\n",
       "    </tr>\n",
       "    <tr>\n",
       "      <th>b</th>\n",
       "      <td>Dima</td>\n",
       "      <td>9.0</td>\n",
       "    </tr>\n",
       "    <tr>\n",
       "      <th>g</th>\n",
       "      <td>Matthew</td>\n",
       "      <td>14.5</td>\n",
       "    </tr>\n",
       "  </tbody>\n",
       "</table>\n",
       "</div>"
      ],
      "text/plain": [
       "        name  score\n",
       "a  Anastasia   12.5\n",
       "b       Dima    9.0\n",
       "g    Matthew   14.5"
      ]
     },
     "execution_count": 78,
     "metadata": {},
     "output_type": "execute_result"
    }
   ],
   "source": [
    "df[[\"name\",\"score\"]].loc[[\"a\",\"b\",\"g\"]]"
   ]
  },
  {
   "cell_type": "markdown",
   "id": "104d659d",
   "metadata": {},
   "source": [
    "## 10. Write a Pandas program to add new column named ‘exam date’ of type date and time to existing Dataframe"
   ]
  },
  {
   "cell_type": "code",
   "execution_count": 92,
   "id": "a80dfac8",
   "metadata": {},
   "outputs": [
    {
     "data": {
      "text/html": [
       "<div>\n",
       "<style scoped>\n",
       "    .dataframe tbody tr th:only-of-type {\n",
       "        vertical-align: middle;\n",
       "    }\n",
       "\n",
       "    .dataframe tbody tr th {\n",
       "        vertical-align: top;\n",
       "    }\n",
       "\n",
       "    .dataframe thead th {\n",
       "        text-align: right;\n",
       "    }\n",
       "</style>\n",
       "<table border=\"1\" class=\"dataframe\">\n",
       "  <thead>\n",
       "    <tr style=\"text-align: right;\">\n",
       "      <th></th>\n",
       "      <th>name</th>\n",
       "      <th>score</th>\n",
       "      <th>attempts</th>\n",
       "      <th>qualify</th>\n",
       "      <th>exam year</th>\n",
       "      <th>exam month</th>\n",
       "      <th>exam date</th>\n",
       "    </tr>\n",
       "  </thead>\n",
       "  <tbody>\n",
       "    <tr>\n",
       "      <th>a</th>\n",
       "      <td>Anastasia</td>\n",
       "      <td>12.5</td>\n",
       "      <td>1.0</td>\n",
       "      <td>yes</td>\n",
       "      <td>1998</td>\n",
       "      <td>05</td>\n",
       "      <td>2002-05-17</td>\n",
       "    </tr>\n",
       "    <tr>\n",
       "      <th>b</th>\n",
       "      <td>Dima</td>\n",
       "      <td>9.0</td>\n",
       "      <td>3.0</td>\n",
       "      <td>no</td>\n",
       "      <td>2001</td>\n",
       "      <td>06</td>\n",
       "      <td>2002-06-17</td>\n",
       "    </tr>\n",
       "    <tr>\n",
       "      <th>c</th>\n",
       "      <td>Katherine</td>\n",
       "      <td>NaN</td>\n",
       "      <td>2.0</td>\n",
       "      <td>yes</td>\n",
       "      <td>2003</td>\n",
       "      <td>02</td>\n",
       "      <td>2002-02-17</td>\n",
       "    </tr>\n",
       "    <tr>\n",
       "      <th>d</th>\n",
       "      <td>James</td>\n",
       "      <td>11.5</td>\n",
       "      <td>3.0</td>\n",
       "      <td>no</td>\n",
       "      <td>2004</td>\n",
       "      <td>03</td>\n",
       "      <td>2002-03-17</td>\n",
       "    </tr>\n",
       "    <tr>\n",
       "      <th>e</th>\n",
       "      <td>Emily</td>\n",
       "      <td>9.0</td>\n",
       "      <td>2.0</td>\n",
       "      <td>no</td>\n",
       "      <td>2005</td>\n",
       "      <td>01</td>\n",
       "      <td>2002-01-17</td>\n",
       "    </tr>\n",
       "    <tr>\n",
       "      <th>f</th>\n",
       "      <td>Michael</td>\n",
       "      <td>20.0</td>\n",
       "      <td>3.0</td>\n",
       "      <td>yes</td>\n",
       "      <td>2006</td>\n",
       "      <td>06</td>\n",
       "      <td>2002-08-17</td>\n",
       "    </tr>\n",
       "    <tr>\n",
       "      <th>g</th>\n",
       "      <td>Matthew</td>\n",
       "      <td>14.5</td>\n",
       "      <td>1.0</td>\n",
       "      <td>yes</td>\n",
       "      <td>2007</td>\n",
       "      <td>08</td>\n",
       "      <td>2002-07-17</td>\n",
       "    </tr>\n",
       "    <tr>\n",
       "      <th>h</th>\n",
       "      <td>Laura</td>\n",
       "      <td>NaN</td>\n",
       "      <td>1.0</td>\n",
       "      <td>no</td>\n",
       "      <td>2008</td>\n",
       "      <td>07</td>\n",
       "      <td>2002-11-17</td>\n",
       "    </tr>\n",
       "    <tr>\n",
       "      <th>i</th>\n",
       "      <td>Kevin</td>\n",
       "      <td>8.0</td>\n",
       "      <td>2.0</td>\n",
       "      <td>no</td>\n",
       "      <td>2009</td>\n",
       "      <td>11</td>\n",
       "      <td>2002-12-17</td>\n",
       "    </tr>\n",
       "    <tr>\n",
       "      <th>j</th>\n",
       "      <td>Jonas</td>\n",
       "      <td>19.0</td>\n",
       "      <td>1.0</td>\n",
       "      <td>yes</td>\n",
       "      <td>2010</td>\n",
       "      <td>12</td>\n",
       "      <td>2002-10-17</td>\n",
       "    </tr>\n",
       "    <tr>\n",
       "      <th>k</th>\n",
       "      <td>NaN</td>\n",
       "      <td>NaN</td>\n",
       "      <td>NaN</td>\n",
       "      <td>NaN</td>\n",
       "      <td>2011</td>\n",
       "      <td>10</td>\n",
       "      <td>2002-10-17</td>\n",
       "    </tr>\n",
       "    <tr>\n",
       "      <th>l</th>\n",
       "      <td>test</td>\n",
       "      <td>12.0</td>\n",
       "      <td>5.0</td>\n",
       "      <td>yes</td>\n",
       "      <td>2001</td>\n",
       "      <td>03</td>\n",
       "      <td>2002-10-17</td>\n",
       "    </tr>\n",
       "  </tbody>\n",
       "</table>\n",
       "</div>"
      ],
      "text/plain": [
       "        name  score  attempts qualify exam year exam month  exam date\n",
       "a  Anastasia   12.5       1.0     yes      1998         05 2002-05-17\n",
       "b       Dima    9.0       3.0      no      2001         06 2002-06-17\n",
       "c  Katherine    NaN       2.0     yes      2003         02 2002-02-17\n",
       "d      James   11.5       3.0      no      2004         03 2002-03-17\n",
       "e      Emily    9.0       2.0      no      2005         01 2002-01-17\n",
       "f    Michael   20.0       3.0     yes      2006         06 2002-08-17\n",
       "g    Matthew   14.5       1.0     yes      2007         08 2002-07-17\n",
       "h      Laura    NaN       1.0      no      2008         07 2002-11-17\n",
       "i      Kevin    8.0       2.0      no      2009         11 2002-12-17\n",
       "j      Jonas   19.0       1.0     yes      2010         12 2002-10-17\n",
       "k        NaN    NaN       NaN     NaN      2011         10 2002-10-17\n",
       "l       test   12.0       5.0     yes      2001         03 2002-10-17"
      ]
     },
     "execution_count": 92,
     "metadata": {},
     "output_type": "execute_result"
    }
   ],
   "source": [
    "# df = df.drop([\"exam date\"],axis=1) \n",
    "df[\"exam date\"] = [\"17/05/2002\",\"17/06/2002\",\"17/02/2002\",\"17/03/2002\",\"17/01/2002\",\"17/08/2002\",\"17/07/2002\",\"17/11/2002\",\"17/12/2002\",\"17/10/2002\",\"17/10/2002\",\"17/10/2002\"]\n",
    "df[\"exam date\"] = pd.to_datetime(df[\"exam date\"])\n",
    "df"
   ]
  },
  {
   "cell_type": "markdown",
   "id": "b8dbfeec",
   "metadata": {},
   "source": [
    "## 11. Write a Pandas program to insert two new columns ‘exam month’ and ‘exam year’ in a given DataFrame."
   ]
  },
  {
   "cell_type": "code",
   "execution_count": 44,
   "id": "dc566396",
   "metadata": {},
   "outputs": [
    {
     "data": {
      "text/html": [
       "<div>\n",
       "<style scoped>\n",
       "    .dataframe tbody tr th:only-of-type {\n",
       "        vertical-align: middle;\n",
       "    }\n",
       "\n",
       "    .dataframe tbody tr th {\n",
       "        vertical-align: top;\n",
       "    }\n",
       "\n",
       "    .dataframe thead th {\n",
       "        text-align: right;\n",
       "    }\n",
       "</style>\n",
       "<table border=\"1\" class=\"dataframe\">\n",
       "  <thead>\n",
       "    <tr style=\"text-align: right;\">\n",
       "      <th></th>\n",
       "      <th>name</th>\n",
       "      <th>score</th>\n",
       "      <th>attempts</th>\n",
       "      <th>qualify</th>\n",
       "      <th>exam date</th>\n",
       "      <th>exam year</th>\n",
       "      <th>exam month</th>\n",
       "    </tr>\n",
       "  </thead>\n",
       "  <tbody>\n",
       "    <tr>\n",
       "      <th>a</th>\n",
       "      <td>Anastasia</td>\n",
       "      <td>12.5</td>\n",
       "      <td>1.0</td>\n",
       "      <td>yes</td>\n",
       "      <td>17/05/2002</td>\n",
       "      <td>1998</td>\n",
       "      <td>05</td>\n",
       "    </tr>\n",
       "    <tr>\n",
       "      <th>b</th>\n",
       "      <td>Dima</td>\n",
       "      <td>9.0</td>\n",
       "      <td>3.0</td>\n",
       "      <td>no</td>\n",
       "      <td>17/06/2002</td>\n",
       "      <td>2001</td>\n",
       "      <td>06</td>\n",
       "    </tr>\n",
       "    <tr>\n",
       "      <th>c</th>\n",
       "      <td>Katherine</td>\n",
       "      <td>NaN</td>\n",
       "      <td>2.0</td>\n",
       "      <td>yes</td>\n",
       "      <td>17/02/2002</td>\n",
       "      <td>2003</td>\n",
       "      <td>02</td>\n",
       "    </tr>\n",
       "    <tr>\n",
       "      <th>d</th>\n",
       "      <td>James</td>\n",
       "      <td>NaN</td>\n",
       "      <td>3.0</td>\n",
       "      <td>no</td>\n",
       "      <td>17/03/2002</td>\n",
       "      <td>2004</td>\n",
       "      <td>03</td>\n",
       "    </tr>\n",
       "    <tr>\n",
       "      <th>e</th>\n",
       "      <td>Emily</td>\n",
       "      <td>9.0</td>\n",
       "      <td>2.0</td>\n",
       "      <td>no</td>\n",
       "      <td>17/01/2002</td>\n",
       "      <td>2005</td>\n",
       "      <td>01</td>\n",
       "    </tr>\n",
       "    <tr>\n",
       "      <th>f</th>\n",
       "      <td>Michael</td>\n",
       "      <td>20.0</td>\n",
       "      <td>3.0</td>\n",
       "      <td>yes</td>\n",
       "      <td>17/06/2002</td>\n",
       "      <td>2006</td>\n",
       "      <td>06</td>\n",
       "    </tr>\n",
       "    <tr>\n",
       "      <th>g</th>\n",
       "      <td>Matthew</td>\n",
       "      <td>14.5</td>\n",
       "      <td>1.0</td>\n",
       "      <td>yes</td>\n",
       "      <td>17/08/2002</td>\n",
       "      <td>2007</td>\n",
       "      <td>08</td>\n",
       "    </tr>\n",
       "    <tr>\n",
       "      <th>h</th>\n",
       "      <td>Laura</td>\n",
       "      <td>NaN</td>\n",
       "      <td>1.0</td>\n",
       "      <td>no</td>\n",
       "      <td>17/07/2002</td>\n",
       "      <td>2008</td>\n",
       "      <td>07</td>\n",
       "    </tr>\n",
       "    <tr>\n",
       "      <th>i</th>\n",
       "      <td>Kevin</td>\n",
       "      <td>8.0</td>\n",
       "      <td>2.0</td>\n",
       "      <td>no</td>\n",
       "      <td>17/11/2002</td>\n",
       "      <td>2009</td>\n",
       "      <td>11</td>\n",
       "    </tr>\n",
       "    <tr>\n",
       "      <th>j</th>\n",
       "      <td>Jonas</td>\n",
       "      <td>19.0</td>\n",
       "      <td>1.0</td>\n",
       "      <td>yes</td>\n",
       "      <td>17/12/2002</td>\n",
       "      <td>2010</td>\n",
       "      <td>12</td>\n",
       "    </tr>\n",
       "    <tr>\n",
       "      <th>k</th>\n",
       "      <td>NaN</td>\n",
       "      <td>NaN</td>\n",
       "      <td>NaN</td>\n",
       "      <td>NaN</td>\n",
       "      <td>17/10/2002</td>\n",
       "      <td>2011</td>\n",
       "      <td>10</td>\n",
       "    </tr>\n",
       "  </tbody>\n",
       "</table>\n",
       "</div>"
      ],
      "text/plain": [
       "        name  score  attempts qualify   exam date exam year exam month\n",
       "a  Anastasia   12.5       1.0     yes  17/05/2002      1998         05\n",
       "b       Dima    9.0       3.0      no  17/06/2002      2001         06\n",
       "c  Katherine    NaN       2.0     yes  17/02/2002      2003         02\n",
       "d      James    NaN       3.0      no  17/03/2002      2004         03\n",
       "e      Emily    9.0       2.0      no  17/01/2002      2005         01\n",
       "f    Michael   20.0       3.0     yes  17/06/2002      2006         06\n",
       "g    Matthew   14.5       1.0     yes  17/08/2002      2007         08\n",
       "h      Laura    NaN       1.0      no  17/07/2002      2008         07\n",
       "i      Kevin    8.0       2.0      no  17/11/2002      2009         11\n",
       "j      Jonas   19.0       1.0     yes  17/12/2002      2010         12\n",
       "k        NaN    NaN       NaN     NaN  17/10/2002      2011         10"
      ]
     },
     "execution_count": 44,
     "metadata": {},
     "output_type": "execute_result"
    }
   ],
   "source": [
    "df[\"exam month\"] = [\"05\",\"06\",\"02\",\"03\",\"01\",\"06\",\"08\",\"07\",\"11\",\"12\",\"10\"]\n",
    "df\n",
    "df[\"exam year\"] = [\"1998\",\"2001\",\"2003\",\"2004\",\"2005\",\"2006\",\"2007\",\"2008\",\"2009\",\"2010\",\"2011\"]\n",
    "df"
   ]
  },
  {
   "cell_type": "markdown",
   "id": "0b133081",
   "metadata": {},
   "source": [
    "## 12. Write a Pandas program to select the rows where the score is missing"
   ]
  },
  {
   "cell_type": "code",
   "execution_count": 53,
   "id": "25619dec",
   "metadata": {},
   "outputs": [
    {
     "data": {
      "text/html": [
       "<div>\n",
       "<style scoped>\n",
       "    .dataframe tbody tr th:only-of-type {\n",
       "        vertical-align: middle;\n",
       "    }\n",
       "\n",
       "    .dataframe tbody tr th {\n",
       "        vertical-align: top;\n",
       "    }\n",
       "\n",
       "    .dataframe thead th {\n",
       "        text-align: right;\n",
       "    }\n",
       "</style>\n",
       "<table border=\"1\" class=\"dataframe\">\n",
       "  <thead>\n",
       "    <tr style=\"text-align: right;\">\n",
       "      <th></th>\n",
       "      <th>name</th>\n",
       "      <th>score</th>\n",
       "      <th>attempts</th>\n",
       "      <th>qualify</th>\n",
       "      <th>exam date</th>\n",
       "      <th>exam year</th>\n",
       "      <th>exam month</th>\n",
       "    </tr>\n",
       "  </thead>\n",
       "  <tbody>\n",
       "    <tr>\n",
       "      <th>c</th>\n",
       "      <td>Katherine</td>\n",
       "      <td>NaN</td>\n",
       "      <td>2.0</td>\n",
       "      <td>yes</td>\n",
       "      <td>17/02/2002</td>\n",
       "      <td>2003</td>\n",
       "      <td>02</td>\n",
       "    </tr>\n",
       "    <tr>\n",
       "      <th>d</th>\n",
       "      <td>James</td>\n",
       "      <td>NaN</td>\n",
       "      <td>3.0</td>\n",
       "      <td>no</td>\n",
       "      <td>17/03/2002</td>\n",
       "      <td>2004</td>\n",
       "      <td>03</td>\n",
       "    </tr>\n",
       "    <tr>\n",
       "      <th>h</th>\n",
       "      <td>Laura</td>\n",
       "      <td>NaN</td>\n",
       "      <td>1.0</td>\n",
       "      <td>no</td>\n",
       "      <td>17/07/2002</td>\n",
       "      <td>2008</td>\n",
       "      <td>07</td>\n",
       "    </tr>\n",
       "    <tr>\n",
       "      <th>k</th>\n",
       "      <td>NaN</td>\n",
       "      <td>NaN</td>\n",
       "      <td>NaN</td>\n",
       "      <td>NaN</td>\n",
       "      <td>17/10/2002</td>\n",
       "      <td>2011</td>\n",
       "      <td>10</td>\n",
       "    </tr>\n",
       "  </tbody>\n",
       "</table>\n",
       "</div>"
      ],
      "text/plain": [
       "        name  score  attempts qualify   exam date exam year exam month\n",
       "c  Katherine    NaN       2.0     yes  17/02/2002      2003         02\n",
       "d      James    NaN       3.0      no  17/03/2002      2004         03\n",
       "h      Laura    NaN       1.0      no  17/07/2002      2008         07\n",
       "k        NaN    NaN       NaN     NaN  17/10/2002      2011         10"
      ]
     },
     "execution_count": 53,
     "metadata": {},
     "output_type": "execute_result"
    }
   ],
   "source": [
    "df[df[\"score\"].isnull()]"
   ]
  },
  {
   "cell_type": "markdown",
   "id": "87b57b89",
   "metadata": {},
   "source": [
    "## 13. Write a Pandas program to select the rows where number of attempts in the examination is less than 2 and score greater than 15."
   ]
  },
  {
   "cell_type": "code",
   "execution_count": 56,
   "id": "73f5c5e1",
   "metadata": {},
   "outputs": [
    {
     "data": {
      "text/html": [
       "<div>\n",
       "<style scoped>\n",
       "    .dataframe tbody tr th:only-of-type {\n",
       "        vertical-align: middle;\n",
       "    }\n",
       "\n",
       "    .dataframe tbody tr th {\n",
       "        vertical-align: top;\n",
       "    }\n",
       "\n",
       "    .dataframe thead th {\n",
       "        text-align: right;\n",
       "    }\n",
       "</style>\n",
       "<table border=\"1\" class=\"dataframe\">\n",
       "  <thead>\n",
       "    <tr style=\"text-align: right;\">\n",
       "      <th></th>\n",
       "      <th>name</th>\n",
       "      <th>score</th>\n",
       "      <th>attempts</th>\n",
       "      <th>qualify</th>\n",
       "      <th>exam date</th>\n",
       "      <th>exam year</th>\n",
       "      <th>exam month</th>\n",
       "    </tr>\n",
       "  </thead>\n",
       "  <tbody>\n",
       "    <tr>\n",
       "      <th>f</th>\n",
       "      <td>Michael</td>\n",
       "      <td>20.0</td>\n",
       "      <td>3.0</td>\n",
       "      <td>yes</td>\n",
       "      <td>17/06/2002</td>\n",
       "      <td>2006</td>\n",
       "      <td>06</td>\n",
       "    </tr>\n",
       "  </tbody>\n",
       "</table>\n",
       "</div>"
      ],
      "text/plain": [
       "      name  score  attempts qualify   exam date exam year exam month\n",
       "f  Michael   20.0       3.0     yes  17/06/2002      2006         06"
      ]
     },
     "execution_count": 56,
     "metadata": {},
     "output_type": "execute_result"
    }
   ],
   "source": [
    "df[(df[\"attempts\"] > 2) & (df[\"score\"] > 15)]"
   ]
  },
  {
   "cell_type": "markdown",
   "id": "a78fa9c6",
   "metadata": {},
   "source": [
    "## 14. Write a Pandas program to change the score in row indexed’d’ to 11.5."
   ]
  },
  {
   "cell_type": "code",
   "execution_count": 64,
   "id": "4818ad44",
   "metadata": {},
   "outputs": [
    {
     "data": {
      "text/plain": [
       "name               James\n",
       "score               11.5\n",
       "attempts             3.0\n",
       "qualify               no\n",
       "exam date     17/03/2002\n",
       "exam year           2004\n",
       "exam month            03\n",
       "Name: d, dtype: object"
      ]
     },
     "execution_count": 64,
     "metadata": {},
     "output_type": "execute_result"
    }
   ],
   "source": [
    "df.loc[\"d\",\"score\"] = 11.5\n",
    "df.loc[\"d\"]"
   ]
  },
  {
   "cell_type": "markdown",
   "id": "e465f377",
   "metadata": {},
   "source": [
    "## 15. Write a Pandas program to calculate the sum of the examination attempts by the students."
   ]
  },
  {
   "cell_type": "code",
   "execution_count": 65,
   "id": "5c05ff3a",
   "metadata": {},
   "outputs": [
    {
     "data": {
      "text/plain": [
       "19.0"
      ]
     },
     "execution_count": 65,
     "metadata": {},
     "output_type": "execute_result"
    }
   ],
   "source": [
    "df[\"attempts\"].sum()"
   ]
  },
  {
   "cell_type": "markdown",
   "id": "d8232a85",
   "metadata": {},
   "source": [
    "## 16. Write a Pandas program to calculate the mean score for each different student in DataFrame and store it in new column named ‘mean score’."
   ]
  },
  {
   "cell_type": "code",
   "execution_count": 69,
   "id": "064c1f0a",
   "metadata": {},
   "outputs": [
    {
     "name": "stdout",
     "output_type": "stream",
     "text": [
      "Students Mean Score is 12.833333333333334\n"
     ]
    }
   ],
   "source": [
    "print(\"Students Mean Score is {0}\".format(df[\"score\"].mean()))"
   ]
  },
  {
   "cell_type": "markdown",
   "id": "b62c24ed",
   "metadata": {},
   "source": [
    "## 17. Write a Pandas program to append a new row 'k' to data frame with given values for each column."
   ]
  },
  {
   "cell_type": "code",
   "execution_count": 67,
   "id": "5a648690",
   "metadata": {},
   "outputs": [
    {
     "data": {
      "text/html": [
       "<div>\n",
       "<style scoped>\n",
       "    .dataframe tbody tr th:only-of-type {\n",
       "        vertical-align: middle;\n",
       "    }\n",
       "\n",
       "    .dataframe tbody tr th {\n",
       "        vertical-align: top;\n",
       "    }\n",
       "\n",
       "    .dataframe thead th {\n",
       "        text-align: right;\n",
       "    }\n",
       "</style>\n",
       "<table border=\"1\" class=\"dataframe\">\n",
       "  <thead>\n",
       "    <tr style=\"text-align: right;\">\n",
       "      <th></th>\n",
       "      <th>name</th>\n",
       "      <th>score</th>\n",
       "      <th>attempts</th>\n",
       "      <th>qualify</th>\n",
       "      <th>exam date</th>\n",
       "      <th>exam year</th>\n",
       "      <th>exam month</th>\n",
       "    </tr>\n",
       "  </thead>\n",
       "  <tbody>\n",
       "    <tr>\n",
       "      <th>a</th>\n",
       "      <td>Anastasia</td>\n",
       "      <td>12.5</td>\n",
       "      <td>1.0</td>\n",
       "      <td>yes</td>\n",
       "      <td>17/05/2002</td>\n",
       "      <td>1998</td>\n",
       "      <td>05</td>\n",
       "    </tr>\n",
       "    <tr>\n",
       "      <th>b</th>\n",
       "      <td>Dima</td>\n",
       "      <td>9.0</td>\n",
       "      <td>3.0</td>\n",
       "      <td>no</td>\n",
       "      <td>17/06/2002</td>\n",
       "      <td>2001</td>\n",
       "      <td>06</td>\n",
       "    </tr>\n",
       "    <tr>\n",
       "      <th>c</th>\n",
       "      <td>Katherine</td>\n",
       "      <td>NaN</td>\n",
       "      <td>2.0</td>\n",
       "      <td>yes</td>\n",
       "      <td>17/02/2002</td>\n",
       "      <td>2003</td>\n",
       "      <td>02</td>\n",
       "    </tr>\n",
       "    <tr>\n",
       "      <th>d</th>\n",
       "      <td>James</td>\n",
       "      <td>11.5</td>\n",
       "      <td>3.0</td>\n",
       "      <td>no</td>\n",
       "      <td>17/03/2002</td>\n",
       "      <td>2004</td>\n",
       "      <td>03</td>\n",
       "    </tr>\n",
       "    <tr>\n",
       "      <th>e</th>\n",
       "      <td>Emily</td>\n",
       "      <td>9.0</td>\n",
       "      <td>2.0</td>\n",
       "      <td>no</td>\n",
       "      <td>17/01/2002</td>\n",
       "      <td>2005</td>\n",
       "      <td>01</td>\n",
       "    </tr>\n",
       "    <tr>\n",
       "      <th>f</th>\n",
       "      <td>Michael</td>\n",
       "      <td>20.0</td>\n",
       "      <td>3.0</td>\n",
       "      <td>yes</td>\n",
       "      <td>17/06/2002</td>\n",
       "      <td>2006</td>\n",
       "      <td>06</td>\n",
       "    </tr>\n",
       "    <tr>\n",
       "      <th>g</th>\n",
       "      <td>Matthew</td>\n",
       "      <td>14.5</td>\n",
       "      <td>1.0</td>\n",
       "      <td>yes</td>\n",
       "      <td>17/08/2002</td>\n",
       "      <td>2007</td>\n",
       "      <td>08</td>\n",
       "    </tr>\n",
       "    <tr>\n",
       "      <th>h</th>\n",
       "      <td>Laura</td>\n",
       "      <td>NaN</td>\n",
       "      <td>1.0</td>\n",
       "      <td>no</td>\n",
       "      <td>17/07/2002</td>\n",
       "      <td>2008</td>\n",
       "      <td>07</td>\n",
       "    </tr>\n",
       "    <tr>\n",
       "      <th>i</th>\n",
       "      <td>Kevin</td>\n",
       "      <td>8.0</td>\n",
       "      <td>2.0</td>\n",
       "      <td>no</td>\n",
       "      <td>17/11/2002</td>\n",
       "      <td>2009</td>\n",
       "      <td>11</td>\n",
       "    </tr>\n",
       "    <tr>\n",
       "      <th>j</th>\n",
       "      <td>Jonas</td>\n",
       "      <td>19.0</td>\n",
       "      <td>1.0</td>\n",
       "      <td>yes</td>\n",
       "      <td>17/12/2002</td>\n",
       "      <td>2010</td>\n",
       "      <td>12</td>\n",
       "    </tr>\n",
       "    <tr>\n",
       "      <th>k</th>\n",
       "      <td>NaN</td>\n",
       "      <td>NaN</td>\n",
       "      <td>NaN</td>\n",
       "      <td>NaN</td>\n",
       "      <td>17/10/2002</td>\n",
       "      <td>2011</td>\n",
       "      <td>10</td>\n",
       "    </tr>\n",
       "    <tr>\n",
       "      <th>l</th>\n",
       "      <td>test</td>\n",
       "      <td>12.0</td>\n",
       "      <td>5.0</td>\n",
       "      <td>yes</td>\n",
       "      <td>12,02,2001</td>\n",
       "      <td>2001</td>\n",
       "      <td>03</td>\n",
       "    </tr>\n",
       "  </tbody>\n",
       "</table>\n",
       "</div>"
      ],
      "text/plain": [
       "        name  score  attempts qualify   exam date exam year exam month\n",
       "a  Anastasia   12.5       1.0     yes  17/05/2002      1998         05\n",
       "b       Dima    9.0       3.0      no  17/06/2002      2001         06\n",
       "c  Katherine    NaN       2.0     yes  17/02/2002      2003         02\n",
       "d      James   11.5       3.0      no  17/03/2002      2004         03\n",
       "e      Emily    9.0       2.0      no  17/01/2002      2005         01\n",
       "f    Michael   20.0       3.0     yes  17/06/2002      2006         06\n",
       "g    Matthew   14.5       1.0     yes  17/08/2002      2007         08\n",
       "h      Laura    NaN       1.0      no  17/07/2002      2008         07\n",
       "i      Kevin    8.0       2.0      no  17/11/2002      2009         11\n",
       "j      Jonas   19.0       1.0     yes  17/12/2002      2010         12\n",
       "k        NaN    NaN       NaN     NaN  17/10/2002      2011         10\n",
       "l       test   12.0       5.0     yes  12,02,2001      2001         03"
      ]
     },
     "execution_count": 67,
     "metadata": {},
     "output_type": "execute_result"
    }
   ],
   "source": [
    "df.loc[\"l\"] = [\"test\",12,5.0,\"yes\",\"12,02,2001\",\"2001\",\"03\"]\n",
    "df"
   ]
  }
 ],
 "metadata": {
  "kernelspec": {
   "display_name": "Python 3 (ipykernel)",
   "language": "python",
   "name": "python3"
  },
  "language_info": {
   "codemirror_mode": {
    "name": "ipython",
    "version": 3
   },
   "file_extension": ".py",
   "mimetype": "text/x-python",
   "name": "python",
   "nbconvert_exporter": "python",
   "pygments_lexer": "ipython3",
   "version": "3.9.7"
  }
 },
 "nbformat": 4,
 "nbformat_minor": 5
}

{
 "cells": [
  {
   "cell_type": "markdown",
   "id": "8cea6871",
   "metadata": {},
   "source": [
    "# 1"
   ]
  },
  {
   "cell_type": "code",
   "execution_count": 3,
   "id": "68d10c08",
   "metadata": {},
   "outputs": [],
   "source": [
    "import function as perm"
   ]
  },
  {
   "cell_type": "code",
   "execution_count": 4,
   "id": "e349df29",
   "metadata": {},
   "outputs": [
    {
     "data": {
      "text/plain": [
       "True"
      ]
     },
     "execution_count": 4,
     "metadata": {},
     "output_type": "execute_result"
    }
   ],
   "source": [
    "perm.has_prime_perm(\"337\",3)"
   ]
  },
  {
   "cell_type": "code",
   "execution_count": 5,
   "id": "6391b642",
   "metadata": {},
   "outputs": [
    {
     "data": {
      "text/plain": [
       "True"
      ]
     },
     "execution_count": 5,
     "metadata": {},
     "output_type": "execute_result"
    }
   ],
   "source": [
    "perm.has_only_prime_perms(\"337\",3)"
   ]
  },
  {
   "cell_type": "code",
   "execution_count": 6,
   "id": "cee36037",
   "metadata": {},
   "outputs": [
    {
     "data": {
      "text/plain": [
       "{'total': [335, 353, 335, 353, 533, 533], 'Prime': [353, 353]}"
      ]
     },
     "execution_count": 6,
     "metadata": {},
     "output_type": "execute_result"
    }
   ],
   "source": [
    "perm.prime_perms(\"335\",3)"
   ]
  },
  {
   "cell_type": "markdown",
   "id": "14583017",
   "metadata": {},
   "source": [
    "# 3"
   ]
  },
  {
   "cell_type": "code",
   "execution_count": 7,
   "id": "14ab2ed4",
   "metadata": {},
   "outputs": [
    {
     "name": "stdout",
     "output_type": "stream",
     "text": [
      "Number of words in text file:  25\n",
      "Number of lines in text file:  4\n",
      "Number of characters in text file:  91\n",
      "Number of spaces in text file:  21\n"
     ]
    }
   ],
   "source": [
    "fname = 'File1.txt'\n",
    "perm.file_counter(fname)"
   ]
  },
  {
   "cell_type": "code",
   "execution_count": 8,
   "id": "ad70fabd",
   "metadata": {},
   "outputs": [
    {
     "data": {
      "text/plain": [
       "['is', 'and', 'in', 'is']"
      ]
     },
     "execution_count": 8,
     "metadata": {},
     "output_type": "execute_result"
    }
   ],
   "source": [
    "fname = 'File1.txt'\n",
    "perm.check_word_is_keyword(fname)"
   ]
  },
  {
   "cell_type": "code",
   "execution_count": 9,
   "id": "4afece32",
   "metadata": {},
   "outputs": [
    {
     "data": {
      "text/plain": [
       "{'is': 2, 'and': 1, 'in': 1}"
      ]
     },
     "execution_count": 9,
     "metadata": {},
     "output_type": "execute_result"
    }
   ],
   "source": [
    "fname = 'File1.txt'\n",
    "perm.check_word_is_keyword_count(fname)"
   ]
  },
  {
   "cell_type": "markdown",
   "id": "d815a6c7",
   "metadata": {},
   "source": [
    "# 2"
   ]
  },
  {
   "cell_type": "code",
   "execution_count": 73,
   "id": "3d001276",
   "metadata": {},
   "outputs": [
    {
     "data": {
      "text/plain": [
       "{'total swape': 67, 'average of swape': 6.7}"
      ]
     },
     "execution_count": 73,
     "metadata": {},
     "output_type": "execute_result"
    }
   ],
   "source": [
    "data = get_list(10)\n",
    "data"
   ]
  },
  {
   "cell_type": "code",
   "execution_count": null,
   "id": "834e5f36",
   "metadata": {},
   "outputs": [],
   "source": []
  }
 ],
 "metadata": {
  "kernelspec": {
   "display_name": "Python 3 (ipykernel)",
   "language": "python",
   "name": "python3"
  },
  "language_info": {
   "codemirror_mode": {
    "name": "ipython",
    "version": 3
   },
   "file_extension": ".py",
   "mimetype": "text/x-python",
   "name": "python",
   "nbconvert_exporter": "python",
   "pygments_lexer": "ipython3",
   "version": "3.9.7"
  }
 },
 "nbformat": 4,
 "nbformat_minor": 5
}

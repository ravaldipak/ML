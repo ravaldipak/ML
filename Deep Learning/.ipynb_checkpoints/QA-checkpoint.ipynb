{
 "cells": [
  {
   "cell_type": "markdown",
   "id": "c3cb2bc0",
   "metadata": {},
   "source": [
    "State :\n",
    "CLT,\n",
    "Bias,\n",
    "Varience,\n",
    "Hypothesis testing\n",
    "peroson corelations\n",
    "\n",
    "DA : \n",
    "importance EDA\n",
    "how can we handle missing value\n",
    "Features noremalization\n",
    "outliers\n",
    "handle outliers\n",
    "features selection ( RFE )\n",
    "diementinality reduction : PCA, LDA\n",
    "Data encoding\n",
    "how to handle categorical data : onehare, Lable encoder\n",
    "\n",
    "ML : \n",
    "supervised, unsupervised\n",
    "clustering\n",
    "liner\n",
    "logistics\n",
    "RMSE, MSE, R2-score, F1-score\n",
    "confusion matrix\n",
    "recall, precision, sesnitivity,\n",
    "ensamble learning\n",
    "random forest\n",
    "KNN, K-mean\n",
    "bagging, Boosting\n",
    "\n",
    "Deep leaning: \n",
    "ANN\n",
    "\n",
    "python:\n",
    "lamda function\n",
    "collections : list,tuple,dict,string\n",
    "mutable and imutable collections\n",
    "Data frame"
   ]
  }
 ],
 "metadata": {
  "kernelspec": {
   "display_name": "Python 3 (ipykernel)",
   "language": "python",
   "name": "python3"
  },
  "language_info": {
   "codemirror_mode": {
    "name": "ipython",
    "version": 3
   },
   "file_extension": ".py",
   "mimetype": "text/x-python",
   "name": "python",
   "nbconvert_exporter": "python",
   "pygments_lexer": "ipython3",
   "version": "3.9.7"
  }
 },
 "nbformat": 4,
 "nbformat_minor": 5
}

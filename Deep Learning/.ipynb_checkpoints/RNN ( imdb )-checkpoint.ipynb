{
 "cells": [
  {
   "cell_type": "code",
   "execution_count": 4,
   "id": "4def1e85",
   "metadata": {},
   "outputs": [],
   "source": [
    "import numpy as np # linear algebra\n",
    "import pandas as pd # data processing, CSV file I/O (e.g. pd.read_csv)\n",
    "import seaborn as sns\n",
    "import matplotlib.pyplot as plt\n",
    "\n",
    "from sklearn.metrics import confusion_matrix, classification_report\n",
    "\n",
    "import matplotlib.pyplot as plt\n",
    "from tensorflow.keras.datasets import imdb\n",
    "from tensorflow import keras\n",
    "\n",
    "from keras.models import Sequential\n",
    "from keras.layers import Dense, Dropout, Flatten, Conv2D, MaxPool2D, Activation, MaxPooling2D,SimpleRNN\n",
    "from keras.optimizers import RMSprop,Adam\n",
    "from keras.layers import Embedding\n",
    "from keras.preprocessing.image import ImageDataGenerator\n",
    "from keras.utils import pad_sequences\n",
    "from keras.callbacks import ReduceLROnPlateau"
   ]
  },
  {
   "cell_type": "code",
   "execution_count": 16,
   "id": "3dbb5100",
   "metadata": {},
   "outputs": [],
   "source": [
    "(X_train, y_train), (X_test, y_test) = imdb.load_data(num_words=15000)"
   ]
  },
  {
   "cell_type": "code",
   "execution_count": 17,
   "id": "f88e3cd0",
   "metadata": {},
   "outputs": [
    {
     "name": "stdout",
     "output_type": "stream",
     "text": [
      "(25000,)\n",
      "(25000,)\n",
      "(25000,)\n",
      "(25000,)\n"
     ]
    }
   ],
   "source": [
    "print(y_train.shape)\n",
    "print(X_train.shape)\n",
    "print(X_test.shape)\n",
    "print(y_test.shape)"
   ]
  },
  {
   "cell_type": "code",
   "execution_count": 18,
   "id": "b3e189de",
   "metadata": {},
   "outputs": [],
   "source": [
    "num_words = 15000"
   ]
  },
  {
   "cell_type": "code",
   "execution_count": 19,
   "id": "92716a52",
   "metadata": {},
   "outputs": [
    {
     "name": "stdout",
     "output_type": "stream",
     "text": [
      "X train shape:  (25000, 300)\n"
     ]
    }
   ],
   "source": [
    "maxlen=300\n",
    "X_train = pad_sequences(X_train, maxlen=maxlen)\n",
    "X_test = pad_sequences(X_test, maxlen=maxlen)\n",
    "\n",
    "print(\"X train shape: \",X_train.shape)"
   ]
  },
  {
   "cell_type": "code",
   "execution_count": null,
   "id": "c32f2d47",
   "metadata": {},
   "outputs": [],
   "source": []
  },
  {
   "cell_type": "code",
   "execution_count": null,
   "id": "b81dcd7f",
   "metadata": {},
   "outputs": [],
   "source": []
  },
  {
   "cell_type": "code",
   "execution_count": 20,
   "id": "96f4254b",
   "metadata": {},
   "outputs": [
    {
     "name": "stdout",
     "output_type": "stream",
     "text": [
      "Model: \"sequential_1\"\n",
      "_________________________________________________________________\n",
      " Layer (type)                Output Shape              Param #   \n",
      "=================================================================\n",
      " embedding_1 (Embedding)     (None, 300, 32)           480000    \n",
      "                                                                 \n",
      " simple_rnn_1 (SimpleRNN)    (None, 16)                784       \n",
      "                                                                 \n",
      " dense_1 (Dense)             (None, 1)                 17        \n",
      "                                                                 \n",
      "=================================================================\n",
      "Total params: 480,801\n",
      "Trainable params: 480,801\n",
      "Non-trainable params: 0\n",
      "_________________________________________________________________\n",
      "None\n"
     ]
    }
   ],
   "source": [
    "rnn = Sequential()\n",
    "rnn.add(Embedding(num_words,32,input_length =len(X_train[0])))\n",
    "rnn.add(SimpleRNN(16,input_shape = (num_words,maxlen), return_sequences=False,activation=\"relu\"))\n",
    "rnn.add(Dense(1,activation=\"sigmoid\"))\n",
    "\n",
    "print(rnn.summary())"
   ]
  },
  {
   "cell_type": "code",
   "execution_count": 21,
   "id": "94bd6102",
   "metadata": {},
   "outputs": [],
   "source": [
    "rnn.compile(loss=\"binary_crossentropy\",optimizer=\"rmsprop\",metrics=[\"accuracy\"])"
   ]
  },
  {
   "cell_type": "code",
   "execution_count": 22,
   "id": "5b222ec4",
   "metadata": {
    "scrolled": false
   },
   "outputs": [
    {
     "name": "stdout",
     "output_type": "stream",
     "text": [
      "Epoch 1/5\n",
      "196/196 [==============================] - 21s 97ms/step - loss: 0.6067 - accuracy: 0.6794 - val_loss: 0.4906 - val_accuracy: 0.7763\n",
      "Epoch 2/5\n",
      "196/196 [==============================] - 18s 93ms/step - loss: 0.4308 - accuracy: 0.8344 - val_loss: 0.3475 - val_accuracy: 0.8559\n",
      "Epoch 3/5\n",
      "196/196 [==============================] - 19s 98ms/step - loss: 0.2990 - accuracy: 0.8794 - val_loss: 0.3893 - val_accuracy: 0.8280\n",
      "Epoch 4/5\n",
      "196/196 [==============================] - 20s 102ms/step - loss: 0.2572 - accuracy: 0.9035 - val_loss: 0.3094 - val_accuracy: 0.8693\n",
      "Epoch 5/5\n",
      "196/196 [==============================] - 20s 101ms/step - loss: 0.2109 - accuracy: 0.9192 - val_loss: 0.3096 - val_accuracy: 0.8735\n"
     ]
    }
   ],
   "source": [
    "history = rnn.fit(X_train,y_train ,validation_data = (X_test,y_test),epochs = 5 ,batch_size=128,verbose = 1)"
   ]
  },
  {
   "cell_type": "code",
   "execution_count": 23,
   "id": "9e9b38f9",
   "metadata": {},
   "outputs": [
    {
     "name": "stdout",
     "output_type": "stream",
     "text": [
      "782/782 [==============================] - 18s 23ms/step - loss: 0.3096 - accuracy: 0.8735\n"
     ]
    }
   ],
   "source": [
    "score = rnn.evaluate(X_test,y_test)"
   ]
  },
  {
   "cell_type": "code",
   "execution_count": 24,
   "id": "1c245fea",
   "metadata": {},
   "outputs": [
    {
     "name": "stdout",
     "output_type": "stream",
     "text": [
      "accuracy: 87.3520016670227\n"
     ]
    }
   ],
   "source": [
    "print(\"accuracy:\", score[1]*100)"
   ]
  },
  {
   "cell_type": "code",
   "execution_count": 26,
   "id": "63f1a441",
   "metadata": {},
   "outputs": [],
   "source": [
    "from sklearn import metrics\n",
    "\n",
    "def print_evaluate(true, predicted, train=True):  \n",
    "    mae = metrics.mean_absolute_error(true, predicted)\n",
    "    mse = metrics.mean_squared_error(true, predicted)\n",
    "    rmse = np.sqrt(metrics.mean_squared_error(true, predicted))\n",
    "    r2_square = metrics.r2_score(true, predicted)\n",
    "    if train:\n",
    "        print(\"========Training Result=======\")\n",
    "        print('MAE: ', mae)\n",
    "        print('MSE: ', mse)\n",
    "        print('RMSE: ', rmse)\n",
    "        print('R2 Square: ', r2_square)\n",
    "    elif not train:\n",
    "        print(\"=========Testing Result=======\")\n",
    "        print('MAE: ', mae)\n",
    "        print('MSE: ', mse)\n",
    "        print('RMSE: ', rmse)\n",
    "        print('R2 Square: ', r2_square)"
   ]
  },
  {
   "cell_type": "code",
   "execution_count": 27,
   "id": "3e05facc",
   "metadata": {},
   "outputs": [
    {
     "name": "stdout",
     "output_type": "stream",
     "text": [
      "782/782 [==============================] - 18s 23ms/step\n",
      "782/782 [==============================] - 15s 19ms/step\n",
      "========Training Result=======\n",
      "MAE:  0.09174642024039098\n",
      "MSE:  0.0376557652092333\n",
      "RMSE:  0.19405093457449077\n",
      "R2 Square:  0.8493769391630668\n",
      "=========Testing Result=======\n",
      "MAE:  0.16264840367215794\n",
      "MSE:  0.09382580688153774\n",
      "RMSE:  0.3063099849523971\n",
      "R2 Square:  0.624696772473849\n"
     ]
    }
   ],
   "source": [
    "y_train_pred = rnn.predict(X_train)\n",
    "y_test_pred = rnn.predict(X_test)\n",
    "\n",
    "print_evaluate(y_train, y_train_pred, train=True)\n",
    "print_evaluate(y_test, y_test_pred, train=False)"
   ]
  },
  {
   "cell_type": "code",
   "execution_count": null,
   "id": "24a237c5",
   "metadata": {},
   "outputs": [],
   "source": []
  }
 ],
 "metadata": {
  "kernelspec": {
   "display_name": "Python 3 (ipykernel)",
   "language": "python",
   "name": "python3"
  },
  "language_info": {
   "codemirror_mode": {
    "name": "ipython",
    "version": 3
   },
   "file_extension": ".py",
   "mimetype": "text/x-python",
   "name": "python",
   "nbconvert_exporter": "python",
   "pygments_lexer": "ipython3",
   "version": "3.9.7"
  }
 },
 "nbformat": 4,
 "nbformat_minor": 5
}

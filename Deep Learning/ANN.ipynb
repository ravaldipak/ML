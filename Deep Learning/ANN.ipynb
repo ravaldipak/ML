{
 "cells": [
  {
   "cell_type": "code",
   "execution_count": 1,
   "id": "fe36e2a4",
   "metadata": {},
   "outputs": [],
   "source": [
    "import pandas as pd\n",
    "import numpy as np\n",
    "import matplotlib.pyplot as plt \n",
    "import seaborn as sns\n",
    "\n",
    "#Data preprocessing\n",
    "from sklearn.preprocessing import LabelEncoder\n",
    "from sklearn.model_selection import train_test_split\n",
    "from sklearn.preprocessing import StandardScaler\n",
    "\n",
    "#For modeling\n",
    "# import tensorflow as tf\n",
    "from sklearn.metrics import confusion_matrix, accuracy_score\n"
   ]
  },
  {
   "cell_type": "code",
   "execution_count": 2,
   "id": "75d47a9f",
   "metadata": {},
   "outputs": [],
   "source": [
    "df = pd.read_csv(\"Churn_Modelling.csv\");"
   ]
  },
  {
   "cell_type": "code",
   "execution_count": 3,
   "id": "ac7ad0c5",
   "metadata": {},
   "outputs": [],
   "source": [
    "X=df.iloc[:,3:-1].values #All the rows except the last one\n",
    "y=df.iloc[:,-1].values #Existed column"
   ]
  },
  {
   "cell_type": "code",
   "execution_count": 4,
   "id": "7ef796ec",
   "metadata": {},
   "outputs": [],
   "source": [
    "le=LabelEncoder()\n",
    "X[:,2]=le.fit_transform(X[:,2]) #all rows in Third column (Gender)"
   ]
  },
  {
   "cell_type": "code",
   "execution_count": 5,
   "id": "b98c2b4d",
   "metadata": {},
   "outputs": [],
   "source": [
    "from sklearn.compose import ColumnTransformer\n",
    "from sklearn.preprocessing import OneHotEncoder\n",
    "ct = ColumnTransformer(transformers=[('encoder', OneHotEncoder(), [1])], remainder='passthrough')\n",
    "X = np.array(ct.fit_transform(X))"
   ]
  },
  {
   "cell_type": "code",
   "execution_count": 6,
   "id": "566f1c7e",
   "metadata": {},
   "outputs": [],
   "source": [
    "X_train, X_test, y_train, y_test =train_test_split(X,y,test_size=0.2, random_state=0)"
   ]
  },
  {
   "cell_type": "code",
   "execution_count": 7,
   "id": "a80b15dd",
   "metadata": {},
   "outputs": [],
   "source": [
    "sc = StandardScaler() #makes the range of variable from +3 to -3\n",
    "X_train = sc.fit_transform(X_train)\n",
    "X_test = sc.transform(X_test)"
   ]
  },
  {
   "cell_type": "code",
   "execution_count": 8,
   "id": "b89936d0",
   "metadata": {},
   "outputs": [],
   "source": [
    "import tensorflow as tf"
   ]
  },
  {
   "cell_type": "code",
   "execution_count": 9,
   "id": "230ba0c0",
   "metadata": {},
   "outputs": [],
   "source": [
    "ann =tf.keras.models.Sequential()"
   ]
  },
  {
   "cell_type": "code",
   "execution_count": 10,
   "id": "9218f1e9",
   "metadata": {},
   "outputs": [],
   "source": [
    "ann.add(tf.keras.layers.Dense(units=6,activation='relu'))\n",
    "ann.add(tf.keras.layers.Dense(units=6,activation='relu'))"
   ]
  },
  {
   "cell_type": "code",
   "execution_count": 11,
   "id": "59a03d69",
   "metadata": {},
   "outputs": [],
   "source": [
    "ann.add(tf.keras.layers.Dense(units=1,activation='sigmoid'))"
   ]
  },
  {
   "cell_type": "code",
   "execution_count": 12,
   "id": "06a0218e",
   "metadata": {},
   "outputs": [],
   "source": [
    "ann.compile(optimizer='adam',loss='binary_crossentropy', metrics=['accuracy'])"
   ]
  },
  {
   "cell_type": "code",
   "execution_count": 13,
   "id": "cf60129c",
   "metadata": {
    "scrolled": false
   },
   "outputs": [
    {
     "name": "stdout",
     "output_type": "stream",
     "text": [
      "Epoch 1/100\n",
      "250/250 [==============================] - 2s 4ms/step - loss: 0.5892 - accuracy: 0.7611\n",
      "Epoch 2/100\n",
      "250/250 [==============================] - 1s 4ms/step - loss: 0.4900 - accuracy: 0.7977\n",
      "Epoch 3/100\n",
      "250/250 [==============================] - 1s 4ms/step - loss: 0.4373 - accuracy: 0.8101\n",
      "Epoch 4/100\n",
      "250/250 [==============================] - 1s 3ms/step - loss: 0.3980 - accuracy: 0.8332\n",
      "Epoch 5/100\n",
      "250/250 [==============================] - 1s 3ms/step - loss: 0.3803 - accuracy: 0.8418\n",
      "Epoch 6/100\n",
      "250/250 [==============================] - 1s 3ms/step - loss: 0.3717 - accuracy: 0.8440\n",
      "Epoch 7/100\n",
      "250/250 [==============================] - 1s 3ms/step - loss: 0.3663 - accuracy: 0.8471\n",
      "Epoch 8/100\n",
      "250/250 [==============================] - 1s 3ms/step - loss: 0.3629 - accuracy: 0.8486\n",
      "Epoch 9/100\n",
      "250/250 [==============================] - 1s 3ms/step - loss: 0.3601 - accuracy: 0.8491\n",
      "Epoch 10/100\n",
      "250/250 [==============================] - 1s 3ms/step - loss: 0.3579 - accuracy: 0.8514\n",
      "Epoch 11/100\n",
      "250/250 [==============================] - 1s 3ms/step - loss: 0.3562 - accuracy: 0.8516\n",
      "Epoch 12/100\n",
      "250/250 [==============================] - 1s 3ms/step - loss: 0.3546 - accuracy: 0.8533\n",
      "Epoch 13/100\n",
      "250/250 [==============================] - 1s 3ms/step - loss: 0.3536 - accuracy: 0.8521\n",
      "Epoch 14/100\n",
      "250/250 [==============================] - 1s 3ms/step - loss: 0.3526 - accuracy: 0.8540\n",
      "Epoch 15/100\n",
      "250/250 [==============================] - 1s 3ms/step - loss: 0.3515 - accuracy: 0.8537\n",
      "Epoch 16/100\n",
      "250/250 [==============================] - 1s 3ms/step - loss: 0.3502 - accuracy: 0.8553\n",
      "Epoch 17/100\n",
      "250/250 [==============================] - 1s 3ms/step - loss: 0.3496 - accuracy: 0.8544\n",
      "Epoch 18/100\n",
      "250/250 [==============================] - 1s 3ms/step - loss: 0.3486 - accuracy: 0.8546\n",
      "Epoch 19/100\n",
      "250/250 [==============================] - 1s 3ms/step - loss: 0.3483 - accuracy: 0.8549\n",
      "Epoch 20/100\n",
      "250/250 [==============================] - 1s 3ms/step - loss: 0.3474 - accuracy: 0.8562\n",
      "Epoch 21/100\n",
      "250/250 [==============================] - 1s 3ms/step - loss: 0.3467 - accuracy: 0.8572\n",
      "Epoch 22/100\n",
      "250/250 [==============================] - 1s 3ms/step - loss: 0.3462 - accuracy: 0.8577\n",
      "Epoch 23/100\n",
      "250/250 [==============================] - 1s 3ms/step - loss: 0.3458 - accuracy: 0.8570\n",
      "Epoch 24/100\n",
      "250/250 [==============================] - 1s 3ms/step - loss: 0.3453 - accuracy: 0.8584\n",
      "Epoch 25/100\n",
      "250/250 [==============================] - 1s 3ms/step - loss: 0.3446 - accuracy: 0.8574\n",
      "Epoch 26/100\n",
      "250/250 [==============================] - 1s 3ms/step - loss: 0.3444 - accuracy: 0.8585\n",
      "Epoch 27/100\n",
      "250/250 [==============================] - 1s 3ms/step - loss: 0.3439 - accuracy: 0.8569\n",
      "Epoch 28/100\n",
      "250/250 [==============================] - 1s 3ms/step - loss: 0.3437 - accuracy: 0.8590\n",
      "Epoch 29/100\n",
      "250/250 [==============================] - 1s 3ms/step - loss: 0.3434 - accuracy: 0.8589\n",
      "Epoch 30/100\n",
      "250/250 [==============================] - 1s 3ms/step - loss: 0.3433 - accuracy: 0.8584\n",
      "Epoch 31/100\n",
      "250/250 [==============================] - 1s 3ms/step - loss: 0.3429 - accuracy: 0.8595\n",
      "Epoch 32/100\n",
      "250/250 [==============================] - 1s 3ms/step - loss: 0.3421 - accuracy: 0.8602\n",
      "Epoch 33/100\n",
      "250/250 [==============================] - 1s 3ms/step - loss: 0.3422 - accuracy: 0.8597\n",
      "Epoch 34/100\n",
      "250/250 [==============================] - 1s 3ms/step - loss: 0.3418 - accuracy: 0.8606\n",
      "Epoch 35/100\n",
      "250/250 [==============================] - 1s 3ms/step - loss: 0.3414 - accuracy: 0.8601\n",
      "Epoch 36/100\n",
      "250/250 [==============================] - 1s 3ms/step - loss: 0.3411 - accuracy: 0.8616\n",
      "Epoch 37/100\n",
      "250/250 [==============================] - 1s 3ms/step - loss: 0.3408 - accuracy: 0.8604\n",
      "Epoch 38/100\n",
      "250/250 [==============================] - 1s 3ms/step - loss: 0.3404 - accuracy: 0.8593\n",
      "Epoch 39/100\n",
      "250/250 [==============================] - 1s 3ms/step - loss: 0.3400 - accuracy: 0.8611\n",
      "Epoch 40/100\n",
      "250/250 [==============================] - 1s 3ms/step - loss: 0.3403 - accuracy: 0.8594\n",
      "Epoch 41/100\n",
      "250/250 [==============================] - 1s 3ms/step - loss: 0.3395 - accuracy: 0.8621\n",
      "Epoch 42/100\n",
      "250/250 [==============================] - 1s 3ms/step - loss: 0.3399 - accuracy: 0.8608\n",
      "Epoch 43/100\n",
      "250/250 [==============================] - 1s 4ms/step - loss: 0.3393 - accuracy: 0.8609\n",
      "Epoch 44/100\n",
      "250/250 [==============================] - 2s 6ms/step - loss: 0.3391 - accuracy: 0.8625\n",
      "Epoch 45/100\n",
      "250/250 [==============================] - 2s 6ms/step - loss: 0.3391 - accuracy: 0.8611\n",
      "Epoch 46/100\n",
      "250/250 [==============================] - 2s 6ms/step - loss: 0.3388 - accuracy: 0.8606\n",
      "Epoch 47/100\n",
      "250/250 [==============================] - 2s 6ms/step - loss: 0.3385 - accuracy: 0.8627\n",
      "Epoch 48/100\n",
      "250/250 [==============================] - 1s 6ms/step - loss: 0.3380 - accuracy: 0.8615\n",
      "Epoch 49/100\n",
      "250/250 [==============================] - 2s 6ms/step - loss: 0.3384 - accuracy: 0.8601\n",
      "Epoch 50/100\n",
      "250/250 [==============================] - 2s 7ms/step - loss: 0.3380 - accuracy: 0.8626\n",
      "Epoch 51/100\n",
      "250/250 [==============================] - 2s 6ms/step - loss: 0.3384 - accuracy: 0.8611\n",
      "Epoch 52/100\n",
      "250/250 [==============================] - 2s 6ms/step - loss: 0.3379 - accuracy: 0.8605\n",
      "Epoch 53/100\n",
      "250/250 [==============================] - 2s 7ms/step - loss: 0.3380 - accuracy: 0.8620\n",
      "Epoch 54/100\n",
      "250/250 [==============================] - 2s 7ms/step - loss: 0.3375 - accuracy: 0.8639\n",
      "Epoch 55/100\n",
      "250/250 [==============================] - 2s 7ms/step - loss: 0.3374 - accuracy: 0.8618\n",
      "Epoch 56/100\n",
      "250/250 [==============================] - 2s 6ms/step - loss: 0.3373 - accuracy: 0.8635\n",
      "Epoch 57/100\n",
      "250/250 [==============================] - 2s 7ms/step - loss: 0.3373 - accuracy: 0.8624\n",
      "Epoch 58/100\n",
      "250/250 [==============================] - 2s 7ms/step - loss: 0.3373 - accuracy: 0.8619\n",
      "Epoch 59/100\n",
      "250/250 [==============================] - 2s 7ms/step - loss: 0.3375 - accuracy: 0.8618\n",
      "Epoch 60/100\n",
      "250/250 [==============================] - 2s 7ms/step - loss: 0.3369 - accuracy: 0.8618\n",
      "Epoch 61/100\n",
      "250/250 [==============================] - 2s 6ms/step - loss: 0.3372 - accuracy: 0.8629\n",
      "Epoch 62/100\n",
      "250/250 [==============================] - 2s 6ms/step - loss: 0.3369 - accuracy: 0.8624\n",
      "Epoch 63/100\n",
      "250/250 [==============================] - 2s 6ms/step - loss: 0.3366 - accuracy: 0.8624\n",
      "Epoch 64/100\n",
      "250/250 [==============================] - 2s 6ms/step - loss: 0.3369 - accuracy: 0.8616\n",
      "Epoch 65/100\n",
      "250/250 [==============================] - 2s 6ms/step - loss: 0.3364 - accuracy: 0.8621\n",
      "Epoch 66/100\n",
      "250/250 [==============================] - 2s 6ms/step - loss: 0.3365 - accuracy: 0.8622\n",
      "Epoch 67/100\n",
      "250/250 [==============================] - 2s 6ms/step - loss: 0.3365 - accuracy: 0.8621\n",
      "Epoch 68/100\n",
      "250/250 [==============================] - 1s 6ms/step - loss: 0.3362 - accuracy: 0.8626\n",
      "Epoch 69/100\n",
      "250/250 [==============================] - 2s 6ms/step - loss: 0.3360 - accuracy: 0.8614\n",
      "Epoch 70/100\n",
      "250/250 [==============================] - 1s 6ms/step - loss: 0.3359 - accuracy: 0.8625\n",
      "Epoch 71/100\n",
      "250/250 [==============================] - 2s 6ms/step - loss: 0.3364 - accuracy: 0.8629\n",
      "Epoch 72/100\n",
      "250/250 [==============================] - 2s 6ms/step - loss: 0.3361 - accuracy: 0.8611\n",
      "Epoch 73/100\n",
      "250/250 [==============================] - 1s 5ms/step - loss: 0.3359 - accuracy: 0.8630\n",
      "Epoch 74/100\n",
      "250/250 [==============================] - 2s 6ms/step - loss: 0.3358 - accuracy: 0.8621\n",
      "Epoch 75/100\n",
      "250/250 [==============================] - 2s 6ms/step - loss: 0.3361 - accuracy: 0.8622\n",
      "Epoch 76/100\n",
      "250/250 [==============================] - 2s 6ms/step - loss: 0.3358 - accuracy: 0.8624\n",
      "Epoch 77/100\n",
      "250/250 [==============================] - 1s 6ms/step - loss: 0.3356 - accuracy: 0.8618\n",
      "Epoch 78/100\n",
      "250/250 [==============================] - 1s 6ms/step - loss: 0.3354 - accuracy: 0.8631\n",
      "Epoch 79/100\n",
      "250/250 [==============================] - 1s 5ms/step - loss: 0.3354 - accuracy: 0.8620\n",
      "Epoch 80/100\n",
      "250/250 [==============================] - 1s 5ms/step - loss: 0.3353 - accuracy: 0.8631\n",
      "Epoch 81/100\n"
     ]
    },
    {
     "name": "stdout",
     "output_type": "stream",
     "text": [
      "250/250 [==============================] - 1s 6ms/step - loss: 0.3357 - accuracy: 0.8626\n",
      "Epoch 82/100\n",
      "250/250 [==============================] - 1s 4ms/step - loss: 0.3352 - accuracy: 0.8636\n",
      "Epoch 83/100\n",
      "250/250 [==============================] - 1s 3ms/step - loss: 0.3351 - accuracy: 0.8636\n",
      "Epoch 84/100\n",
      "250/250 [==============================] - 1s 3ms/step - loss: 0.3351 - accuracy: 0.8637\n",
      "Epoch 85/100\n",
      "250/250 [==============================] - 1s 3ms/step - loss: 0.3349 - accuracy: 0.8627\n",
      "Epoch 86/100\n",
      "250/250 [==============================] - 1s 3ms/step - loss: 0.3356 - accuracy: 0.8631\n",
      "Epoch 87/100\n",
      "250/250 [==============================] - 1s 3ms/step - loss: 0.3352 - accuracy: 0.8645\n",
      "Epoch 88/100\n",
      "250/250 [==============================] - 1s 3ms/step - loss: 0.3350 - accuracy: 0.8644\n",
      "Epoch 89/100\n",
      "250/250 [==============================] - 1s 3ms/step - loss: 0.3349 - accuracy: 0.8630\n",
      "Epoch 90/100\n",
      "250/250 [==============================] - 1s 3ms/step - loss: 0.3350 - accuracy: 0.8626\n",
      "Epoch 91/100\n",
      "250/250 [==============================] - 1s 3ms/step - loss: 0.3347 - accuracy: 0.8650\n",
      "Epoch 92/100\n",
      "250/250 [==============================] - 1s 3ms/step - loss: 0.3347 - accuracy: 0.8630\n",
      "Epoch 93/100\n",
      "250/250 [==============================] - 1s 3ms/step - loss: 0.3348 - accuracy: 0.8634\n",
      "Epoch 94/100\n",
      "250/250 [==============================] - 1s 3ms/step - loss: 0.3346 - accuracy: 0.8620\n",
      "Epoch 95/100\n",
      "250/250 [==============================] - 1s 3ms/step - loss: 0.3345 - accuracy: 0.8637\n",
      "Epoch 96/100\n",
      "250/250 [==============================] - 1s 3ms/step - loss: 0.3347 - accuracy: 0.8649\n",
      "Epoch 97/100\n",
      "250/250 [==============================] - 1s 3ms/step - loss: 0.3348 - accuracy: 0.8640\n",
      "Epoch 98/100\n",
      "250/250 [==============================] - 1s 3ms/step - loss: 0.3346 - accuracy: 0.8633\n",
      "Epoch 99/100\n",
      "250/250 [==============================] - 1s 3ms/step - loss: 0.3342 - accuracy: 0.8650\n",
      "Epoch 100/100\n",
      "250/250 [==============================] - 1s 3ms/step - loss: 0.3347 - accuracy: 0.8640\n"
     ]
    },
    {
     "data": {
      "text/plain": [
       "<keras.callbacks.History at 0x2040b8dffd0>"
      ]
     },
     "execution_count": 13,
     "metadata": {},
     "output_type": "execute_result"
    }
   ],
   "source": [
    "ann.fit(X_train, y_train, batch_size=32, epochs=100)"
   ]
  },
  {
   "cell_type": "code",
   "execution_count": 14,
   "id": "c05995c3",
   "metadata": {},
   "outputs": [
    {
     "name": "stdout",
     "output_type": "stream",
     "text": [
      "1/1 [==============================] - 0s 231ms/step\n",
      "[[False]]\n"
     ]
    }
   ],
   "source": [
    "print(ann.predict(sc.transform([[1,0,0,600,1,40,3,60000,2,1,1,50000]])) > 0.5)"
   ]
  },
  {
   "cell_type": "code",
   "execution_count": 15,
   "id": "ca6efd87",
   "metadata": {},
   "outputs": [
    {
     "name": "stdout",
     "output_type": "stream",
     "text": [
      "63/63 [==============================] - 0s 2ms/step\n"
     ]
    }
   ],
   "source": [
    "y_pred=ann.predict(X_test)\n",
    "y_pred = (y_pred >0.5)"
   ]
  },
  {
   "cell_type": "code",
   "execution_count": 16,
   "id": "519a1edf",
   "metadata": {},
   "outputs": [
    {
     "name": "stdout",
     "output_type": "stream",
     "text": [
      "[[0 0]\n",
      " [0 1]\n",
      " [0 0]\n",
      " ...\n",
      " [0 0]\n",
      " [0 0]\n",
      " [0 0]]\n"
     ]
    }
   ],
   "source": [
    "print(np.concatenate((y_pred.reshape(len(y_pred),1), y_test.reshape(len(y_test),1)),1))"
   ]
  },
  {
   "cell_type": "code",
   "execution_count": 17,
   "id": "7e050459",
   "metadata": {},
   "outputs": [
    {
     "name": "stdout",
     "output_type": "stream",
     "text": [
      "[[1501   94]\n",
      " [ 186  219]]\n"
     ]
    },
    {
     "data": {
      "text/plain": [
       "0.86"
      ]
     },
     "execution_count": 17,
     "metadata": {},
     "output_type": "execute_result"
    }
   ],
   "source": [
    "cm = confusion_matrix(y_test, y_pred)\n",
    "print(cm)\n",
    "accuracy_score(y_test, y_pred)"
   ]
  },
  {
   "cell_type": "markdown",
   "id": "1abadbee",
   "metadata": {},
   "source": [
    "# ANN Dropout"
   ]
  },
  {
   "cell_type": "code",
   "execution_count": 23,
   "id": "8bbe28c7",
   "metadata": {
    "scrolled": false
   },
   "outputs": [
    {
     "name": "stdout",
     "output_type": "stream",
     "text": [
      "Epoch 1/100\n",
      "250/250 [==============================] - 2s 3ms/step - loss: 0.6288 - accuracy: 0.7275\n",
      "Epoch 2/100\n",
      "250/250 [==============================] - 1s 3ms/step - loss: 0.5196 - accuracy: 0.7926\n",
      "Epoch 3/100\n",
      "250/250 [==============================] - 1s 3ms/step - loss: 0.4925 - accuracy: 0.7945\n",
      "Epoch 4/100\n",
      "250/250 [==============================] - 1s 3ms/step - loss: 0.4841 - accuracy: 0.7951\n",
      "Epoch 5/100\n",
      "250/250 [==============================] - 1s 3ms/step - loss: 0.4769 - accuracy: 0.7952\n",
      "Epoch 6/100\n",
      "250/250 [==============================] - 1s 4ms/step - loss: 0.4677 - accuracy: 0.7958\n",
      "Epoch 7/100\n",
      "250/250 [==============================] - 1s 3ms/step - loss: 0.4593 - accuracy: 0.8001\n",
      "Epoch 8/100\n",
      "250/250 [==============================] - 1s 3ms/step - loss: 0.4561 - accuracy: 0.8036\n",
      "Epoch 9/100\n",
      "250/250 [==============================] - 1s 3ms/step - loss: 0.4505 - accuracy: 0.8062\n",
      "Epoch 10/100\n",
      "250/250 [==============================] - 1s 3ms/step - loss: 0.4509 - accuracy: 0.8067\n",
      "Epoch 11/100\n",
      "250/250 [==============================] - 1s 3ms/step - loss: 0.4511 - accuracy: 0.8064\n",
      "Epoch 12/100\n",
      "250/250 [==============================] - 1s 3ms/step - loss: 0.4493 - accuracy: 0.8065\n",
      "Epoch 13/100\n",
      "250/250 [==============================] - 1s 3ms/step - loss: 0.4456 - accuracy: 0.8095\n",
      "Epoch 14/100\n",
      "250/250 [==============================] - 1s 4ms/step - loss: 0.4394 - accuracy: 0.8096\n",
      "Epoch 15/100\n",
      "250/250 [==============================] - 2s 6ms/step - loss: 0.4372 - accuracy: 0.8141\n",
      "Epoch 16/100\n",
      "250/250 [==============================] - 2s 6ms/step - loss: 0.4386 - accuracy: 0.8156\n",
      "Epoch 17/100\n",
      "250/250 [==============================] - 1s 5ms/step - loss: 0.4353 - accuracy: 0.8134\n",
      "Epoch 18/100\n",
      "250/250 [==============================] - 2s 6ms/step - loss: 0.4384 - accuracy: 0.8086\n",
      "Epoch 19/100\n",
      "250/250 [==============================] - 2s 7ms/step - loss: 0.4309 - accuracy: 0.8159\n",
      "Epoch 20/100\n",
      "250/250 [==============================] - 2s 6ms/step - loss: 0.4369 - accuracy: 0.8127\n",
      "Epoch 21/100\n",
      "250/250 [==============================] - 2s 6ms/step - loss: 0.4360 - accuracy: 0.8134\n",
      "Epoch 22/100\n",
      "250/250 [==============================] - 1s 6ms/step - loss: 0.4399 - accuracy: 0.8100\n",
      "Epoch 23/100\n",
      "250/250 [==============================] - 2s 6ms/step - loss: 0.4364 - accuracy: 0.8127\n",
      "Epoch 24/100\n",
      "250/250 [==============================] - 1s 6ms/step - loss: 0.4355 - accuracy: 0.8130\n",
      "Epoch 25/100\n",
      "250/250 [==============================] - 1s 6ms/step - loss: 0.4367 - accuracy: 0.8145\n",
      "Epoch 26/100\n",
      "250/250 [==============================] - 1s 6ms/step - loss: 0.4313 - accuracy: 0.8164\n",
      "Epoch 27/100\n",
      "250/250 [==============================] - 2s 6ms/step - loss: 0.4329 - accuracy: 0.8123\n",
      "Epoch 28/100\n",
      "250/250 [==============================] - 2s 6ms/step - loss: 0.4266 - accuracy: 0.8194\n",
      "Epoch 29/100\n",
      "250/250 [==============================] - 2s 6ms/step - loss: 0.4303 - accuracy: 0.8159\n",
      "Epoch 30/100\n",
      "250/250 [==============================] - 2s 6ms/step - loss: 0.4278 - accuracy: 0.8174\n",
      "Epoch 31/100\n",
      "250/250 [==============================] - 1s 6ms/step - loss: 0.4282 - accuracy: 0.8161\n",
      "Epoch 32/100\n",
      "250/250 [==============================] - 2s 6ms/step - loss: 0.4283 - accuracy: 0.8167\n",
      "Epoch 33/100\n",
      "250/250 [==============================] - 2s 6ms/step - loss: 0.4313 - accuracy: 0.8140\n",
      "Epoch 34/100\n",
      "250/250 [==============================] - 2s 6ms/step - loss: 0.4306 - accuracy: 0.8190\n",
      "Epoch 35/100\n",
      "250/250 [==============================] - 1s 6ms/step - loss: 0.4338 - accuracy: 0.8154\n",
      "Epoch 36/100\n",
      "250/250 [==============================] - 2s 6ms/step - loss: 0.4238 - accuracy: 0.8174\n",
      "Epoch 37/100\n",
      "250/250 [==============================] - 2s 6ms/step - loss: 0.4221 - accuracy: 0.8217\n",
      "Epoch 38/100\n",
      "250/250 [==============================] - 1s 6ms/step - loss: 0.4224 - accuracy: 0.8214\n",
      "Epoch 39/100\n",
      "250/250 [==============================] - 2s 6ms/step - loss: 0.4234 - accuracy: 0.8188\n",
      "Epoch 40/100\n",
      "250/250 [==============================] - 1s 5ms/step - loss: 0.4223 - accuracy: 0.8211\n",
      "Epoch 41/100\n",
      "250/250 [==============================] - 1s 4ms/step - loss: 0.4215 - accuracy: 0.8200\n",
      "Epoch 42/100\n",
      "250/250 [==============================] - 1s 6ms/step - loss: 0.4175 - accuracy: 0.8229\n",
      "Epoch 43/100\n",
      "250/250 [==============================] - 2s 7ms/step - loss: 0.4222 - accuracy: 0.8183\n",
      "Epoch 44/100\n",
      "250/250 [==============================] - 1s 5ms/step - loss: 0.4206 - accuracy: 0.8198\n",
      "Epoch 45/100\n",
      "250/250 [==============================] - 1s 3ms/step - loss: 0.4145 - accuracy: 0.8263\n",
      "Epoch 46/100\n",
      "250/250 [==============================] - 1s 4ms/step - loss: 0.4246 - accuracy: 0.8201\n",
      "Epoch 47/100\n",
      "250/250 [==============================] - 1s 4ms/step - loss: 0.4233 - accuracy: 0.8214\n",
      "Epoch 48/100\n",
      "250/250 [==============================] - 1s 5ms/step - loss: 0.4188 - accuracy: 0.8200\n",
      "Epoch 49/100\n",
      "250/250 [==============================] - 1s 5ms/step - loss: 0.4209 - accuracy: 0.8248\n",
      "Epoch 50/100\n",
      "250/250 [==============================] - 1s 4ms/step - loss: 0.4193 - accuracy: 0.8202\n",
      "Epoch 51/100\n",
      "250/250 [==============================] - 2s 6ms/step - loss: 0.4197 - accuracy: 0.8167\n",
      "Epoch 52/100\n",
      "250/250 [==============================] - 1s 5ms/step - loss: 0.4195 - accuracy: 0.8215\n",
      "Epoch 53/100\n",
      "250/250 [==============================] - 1s 5ms/step - loss: 0.4159 - accuracy: 0.8256\n",
      "Epoch 54/100\n",
      "250/250 [==============================] - 1s 4ms/step - loss: 0.4206 - accuracy: 0.8194\n",
      "Epoch 55/100\n",
      "250/250 [==============================] - 1s 3ms/step - loss: 0.4229 - accuracy: 0.8180\n",
      "Epoch 56/100\n",
      "250/250 [==============================] - 1s 3ms/step - loss: 0.4213 - accuracy: 0.8194\n",
      "Epoch 57/100\n",
      "250/250 [==============================] - 1s 3ms/step - loss: 0.4141 - accuracy: 0.8246\n",
      "Epoch 58/100\n",
      "250/250 [==============================] - 1s 3ms/step - loss: 0.4186 - accuracy: 0.8201\n",
      "Epoch 59/100\n",
      "250/250 [==============================] - 1s 3ms/step - loss: 0.4149 - accuracy: 0.8221\n",
      "Epoch 60/100\n",
      "250/250 [==============================] - 1s 3ms/step - loss: 0.4219 - accuracy: 0.8225\n",
      "Epoch 61/100\n",
      "250/250 [==============================] - 1s 2ms/step - loss: 0.4114 - accuracy: 0.8260\n",
      "Epoch 62/100\n",
      "250/250 [==============================] - 1s 2ms/step - loss: 0.4180 - accuracy: 0.8201\n",
      "Epoch 63/100\n",
      "250/250 [==============================] - 1s 3ms/step - loss: 0.4173 - accuracy: 0.8214\n",
      "Epoch 64/100\n",
      "250/250 [==============================] - 1s 3ms/step - loss: 0.4179 - accuracy: 0.8231\n",
      "Epoch 65/100\n",
      "250/250 [==============================] - 1s 3ms/step - loss: 0.4188 - accuracy: 0.8221\n",
      "Epoch 66/100\n",
      "250/250 [==============================] - 1s 3ms/step - loss: 0.4145 - accuracy: 0.8224\n",
      "Epoch 67/100\n",
      "250/250 [==============================] - 1s 3ms/step - loss: 0.4149 - accuracy: 0.8234\n",
      "Epoch 68/100\n",
      "250/250 [==============================] - 1s 5ms/step - loss: 0.4179 - accuracy: 0.8224\n",
      "Epoch 69/100\n",
      "250/250 [==============================] - 1s 4ms/step - loss: 0.4134 - accuracy: 0.8246\n",
      "Epoch 70/100\n",
      "250/250 [==============================] - 1s 3ms/step - loss: 0.4150 - accuracy: 0.8229\n",
      "Epoch 71/100\n",
      "250/250 [==============================] - 2s 6ms/step - loss: 0.4208 - accuracy: 0.8210\n",
      "Epoch 72/100\n",
      "250/250 [==============================] - 1s 3ms/step - loss: 0.4191 - accuracy: 0.8186\n",
      "Epoch 73/100\n",
      "250/250 [==============================] - 1s 4ms/step - loss: 0.4147 - accuracy: 0.8223\n",
      "Epoch 74/100\n",
      "250/250 [==============================] - 1s 3ms/step - loss: 0.4146 - accuracy: 0.8219\n",
      "Epoch 75/100\n",
      "250/250 [==============================] - 1s 3ms/step - loss: 0.4148 - accuracy: 0.8217\n",
      "Epoch 76/100\n",
      "250/250 [==============================] - 1s 5ms/step - loss: 0.4146 - accuracy: 0.8251\n",
      "Epoch 77/100\n",
      "250/250 [==============================] - 2s 6ms/step - loss: 0.4180 - accuracy: 0.8232\n",
      "Epoch 78/100\n",
      "250/250 [==============================] - 1s 6ms/step - loss: 0.4142 - accuracy: 0.8254\n",
      "Epoch 79/100\n",
      "250/250 [==============================] - 1s 5ms/step - loss: 0.4153 - accuracy: 0.8263\n",
      "Epoch 80/100\n",
      "250/250 [==============================] - 1s 5ms/step - loss: 0.4171 - accuracy: 0.8220\n",
      "Epoch 81/100\n"
     ]
    },
    {
     "name": "stdout",
     "output_type": "stream",
     "text": [
      "250/250 [==============================] - 1s 5ms/step - loss: 0.4158 - accuracy: 0.8246\n",
      "Epoch 82/100\n",
      "250/250 [==============================] - 1s 5ms/step - loss: 0.4181 - accuracy: 0.8220\n",
      "Epoch 83/100\n",
      "250/250 [==============================] - 1s 6ms/step - loss: 0.4120 - accuracy: 0.8265\n",
      "Epoch 84/100\n",
      "250/250 [==============================] - 2s 6ms/step - loss: 0.4168 - accuracy: 0.8221\n",
      "Epoch 85/100\n",
      "250/250 [==============================] - 1s 6ms/step - loss: 0.4186 - accuracy: 0.8214\n",
      "Epoch 86/100\n",
      "250/250 [==============================] - 1s 6ms/step - loss: 0.4143 - accuracy: 0.8250\n",
      "Epoch 87/100\n",
      "250/250 [==============================] - 1s 5ms/step - loss: 0.4141 - accuracy: 0.8215\n",
      "Epoch 88/100\n",
      "250/250 [==============================] - 1s 6ms/step - loss: 0.4208 - accuracy: 0.8216\n",
      "Epoch 89/100\n",
      "250/250 [==============================] - 1s 5ms/step - loss: 0.4080 - accuracy: 0.8259\n",
      "Epoch 90/100\n",
      "250/250 [==============================] - 1s 5ms/step - loss: 0.4176 - accuracy: 0.8240\n",
      "Epoch 91/100\n",
      "250/250 [==============================] - 2s 6ms/step - loss: 0.4136 - accuracy: 0.8251\n",
      "Epoch 92/100\n",
      "250/250 [==============================] - 1s 4ms/step - loss: 0.4125 - accuracy: 0.8235\n",
      "Epoch 93/100\n",
      "250/250 [==============================] - 1s 3ms/step - loss: 0.4126 - accuracy: 0.8211\n",
      "Epoch 94/100\n",
      "250/250 [==============================] - 1s 3ms/step - loss: 0.4129 - accuracy: 0.8291\n",
      "Epoch 95/100\n",
      "250/250 [==============================] - 1s 3ms/step - loss: 0.4163 - accuracy: 0.8219\n",
      "Epoch 96/100\n",
      "250/250 [==============================] - 1s 3ms/step - loss: 0.4194 - accuracy: 0.8231\n",
      "Epoch 97/100\n",
      "250/250 [==============================] - 1s 3ms/step - loss: 0.4136 - accuracy: 0.8241\n",
      "Epoch 98/100\n",
      "250/250 [==============================] - 1s 3ms/step - loss: 0.4158 - accuracy: 0.8220\n",
      "Epoch 99/100\n",
      "250/250 [==============================] - 1s 3ms/step - loss: 0.4232 - accuracy: 0.8217\n",
      "Epoch 100/100\n",
      "250/250 [==============================] - 1s 4ms/step - loss: 0.4153 - accuracy: 0.8211\n"
     ]
    },
    {
     "data": {
      "text/plain": [
       "<keras.callbacks.History at 0x20411089af0>"
      ]
     },
     "execution_count": 23,
     "metadata": {},
     "output_type": "execute_result"
    }
   ],
   "source": [
    "ann =tf.keras.models.Sequential()\n",
    "\n",
    "ann.add(tf.keras.layers.Dense(units=6,activation='relu'))\n",
    "\n",
    "ann.add(tf.keras.layers.Dropout(0.4))\n",
    "\n",
    "ann.add(tf.keras.layers.Dense(units=6,activation='relu'))\n",
    "\n",
    "ann.add(tf.keras.layers.Dropout(0.3))\n",
    "\n",
    "ann.add(tf.keras.layers.Dense(units=1,activation='sigmoid'))\n",
    "\n",
    "ann.compile(optimizer='adam',loss='binary_crossentropy', metrics=['accuracy'])\n",
    "\n",
    "ann.fit(X_train, y_train, batch_size=32, epochs=100)"
   ]
  },
  {
   "cell_type": "code",
   "execution_count": 24,
   "id": "403f3756",
   "metadata": {},
   "outputs": [
    {
     "name": "stdout",
     "output_type": "stream",
     "text": [
      "63/63 [==============================] - 0s 2ms/step\n"
     ]
    },
    {
     "data": {
      "text/plain": [
       "array([[False],\n",
       "       [False],\n",
       "       [False],\n",
       "       ...,\n",
       "       [False],\n",
       "       [False],\n",
       "       [False]])"
      ]
     },
     "execution_count": 24,
     "metadata": {},
     "output_type": "execute_result"
    }
   ],
   "source": [
    "y_pred=ann.predict(X_test)\n",
    "y_pred = (y_pred >0.5)\n",
    "\n",
    "y_pred"
   ]
  },
  {
   "cell_type": "code",
   "execution_count": 25,
   "id": "43f929a2",
   "metadata": {},
   "outputs": [
    {
     "name": "stdout",
     "output_type": "stream",
     "text": [
      "[[1585   10]\n",
      " [ 303  102]]\n"
     ]
    },
    {
     "data": {
      "text/plain": [
       "0.8435"
      ]
     },
     "execution_count": 25,
     "metadata": {},
     "output_type": "execute_result"
    }
   ],
   "source": [
    "cm = confusion_matrix(y_test, y_pred)\n",
    "print(cm)\n",
    "accuracy_score(y_test, y_pred)"
   ]
  },
  {
   "cell_type": "code",
   "execution_count": null,
   "id": "885442ab",
   "metadata": {},
   "outputs": [],
   "source": []
  }
 ],
 "metadata": {
  "kernelspec": {
   "display_name": "Python 3 (ipykernel)",
   "language": "python",
   "name": "python3"
  },
  "language_info": {
   "codemirror_mode": {
    "name": "ipython",
    "version": 3
   },
   "file_extension": ".py",
   "mimetype": "text/x-python",
   "name": "python",
   "nbconvert_exporter": "python",
   "pygments_lexer": "ipython3",
   "version": "3.9.7"
  }
 },
 "nbformat": 4,
 "nbformat_minor": 5
}

{
 "cells": [
  {
   "cell_type": "code",
   "execution_count": 1,
   "id": "fe36e2a4",
   "metadata": {},
   "outputs": [],
   "source": [
    "import pandas as pd\n",
    "import numpy as np\n",
    "import matplotlib.pyplot as plt \n",
    "import seaborn as sns\n",
    "\n",
    "#Data preprocessing\n",
    "from sklearn.preprocessing import LabelEncoder\n",
    "from sklearn.model_selection import train_test_split\n",
    "from sklearn.preprocessing import StandardScaler\n",
    "\n",
    "#For modeling\n",
    "# import tensorflow as tf\n",
    "from sklearn.metrics import confusion_matrix, accuracy_score\n"
   ]
  },
  {
   "cell_type": "code",
   "execution_count": 2,
   "id": "75d47a9f",
   "metadata": {},
   "outputs": [],
   "source": [
    "df = pd.read_csv(\"Churn_Modelling.csv\");"
   ]
  },
  {
   "cell_type": "code",
   "execution_count": 3,
   "id": "c1be2bda",
   "metadata": {},
   "outputs": [
    {
     "data": {
      "text/html": [
       "<div>\n",
       "<style scoped>\n",
       "    .dataframe tbody tr th:only-of-type {\n",
       "        vertical-align: middle;\n",
       "    }\n",
       "\n",
       "    .dataframe tbody tr th {\n",
       "        vertical-align: top;\n",
       "    }\n",
       "\n",
       "    .dataframe thead th {\n",
       "        text-align: right;\n",
       "    }\n",
       "</style>\n",
       "<table border=\"1\" class=\"dataframe\">\n",
       "  <thead>\n",
       "    <tr style=\"text-align: right;\">\n",
       "      <th></th>\n",
       "      <th>RowNumber</th>\n",
       "      <th>CustomerId</th>\n",
       "      <th>Surname</th>\n",
       "      <th>CreditScore</th>\n",
       "      <th>Geography</th>\n",
       "      <th>Gender</th>\n",
       "      <th>Age</th>\n",
       "      <th>Tenure</th>\n",
       "      <th>Balance</th>\n",
       "      <th>NumOfProducts</th>\n",
       "      <th>HasCrCard</th>\n",
       "      <th>IsActiveMember</th>\n",
       "      <th>EstimatedSalary</th>\n",
       "      <th>Exited</th>\n",
       "    </tr>\n",
       "  </thead>\n",
       "  <tbody>\n",
       "    <tr>\n",
       "      <th>0</th>\n",
       "      <td>1</td>\n",
       "      <td>15634602</td>\n",
       "      <td>Hargrave</td>\n",
       "      <td>619</td>\n",
       "      <td>France</td>\n",
       "      <td>Female</td>\n",
       "      <td>42</td>\n",
       "      <td>2</td>\n",
       "      <td>0.00</td>\n",
       "      <td>1</td>\n",
       "      <td>1</td>\n",
       "      <td>1</td>\n",
       "      <td>101348.88</td>\n",
       "      <td>1</td>\n",
       "    </tr>\n",
       "    <tr>\n",
       "      <th>1</th>\n",
       "      <td>2</td>\n",
       "      <td>15647311</td>\n",
       "      <td>Hill</td>\n",
       "      <td>608</td>\n",
       "      <td>Spain</td>\n",
       "      <td>Female</td>\n",
       "      <td>41</td>\n",
       "      <td>1</td>\n",
       "      <td>83807.86</td>\n",
       "      <td>1</td>\n",
       "      <td>0</td>\n",
       "      <td>1</td>\n",
       "      <td>112542.58</td>\n",
       "      <td>0</td>\n",
       "    </tr>\n",
       "    <tr>\n",
       "      <th>2</th>\n",
       "      <td>3</td>\n",
       "      <td>15619304</td>\n",
       "      <td>Onio</td>\n",
       "      <td>502</td>\n",
       "      <td>France</td>\n",
       "      <td>Female</td>\n",
       "      <td>42</td>\n",
       "      <td>8</td>\n",
       "      <td>159660.80</td>\n",
       "      <td>3</td>\n",
       "      <td>1</td>\n",
       "      <td>0</td>\n",
       "      <td>113931.57</td>\n",
       "      <td>1</td>\n",
       "    </tr>\n",
       "    <tr>\n",
       "      <th>3</th>\n",
       "      <td>4</td>\n",
       "      <td>15701354</td>\n",
       "      <td>Boni</td>\n",
       "      <td>699</td>\n",
       "      <td>France</td>\n",
       "      <td>Female</td>\n",
       "      <td>39</td>\n",
       "      <td>1</td>\n",
       "      <td>0.00</td>\n",
       "      <td>2</td>\n",
       "      <td>0</td>\n",
       "      <td>0</td>\n",
       "      <td>93826.63</td>\n",
       "      <td>0</td>\n",
       "    </tr>\n",
       "    <tr>\n",
       "      <th>4</th>\n",
       "      <td>5</td>\n",
       "      <td>15737888</td>\n",
       "      <td>Mitchell</td>\n",
       "      <td>850</td>\n",
       "      <td>Spain</td>\n",
       "      <td>Female</td>\n",
       "      <td>43</td>\n",
       "      <td>2</td>\n",
       "      <td>125510.82</td>\n",
       "      <td>1</td>\n",
       "      <td>1</td>\n",
       "      <td>1</td>\n",
       "      <td>79084.10</td>\n",
       "      <td>0</td>\n",
       "    </tr>\n",
       "  </tbody>\n",
       "</table>\n",
       "</div>"
      ],
      "text/plain": [
       "   RowNumber  CustomerId   Surname  CreditScore Geography  Gender  Age  \\\n",
       "0          1    15634602  Hargrave          619    France  Female   42   \n",
       "1          2    15647311      Hill          608     Spain  Female   41   \n",
       "2          3    15619304      Onio          502    France  Female   42   \n",
       "3          4    15701354      Boni          699    France  Female   39   \n",
       "4          5    15737888  Mitchell          850     Spain  Female   43   \n",
       "\n",
       "   Tenure    Balance  NumOfProducts  HasCrCard  IsActiveMember  \\\n",
       "0       2       0.00              1          1               1   \n",
       "1       1   83807.86              1          0               1   \n",
       "2       8  159660.80              3          1               0   \n",
       "3       1       0.00              2          0               0   \n",
       "4       2  125510.82              1          1               1   \n",
       "\n",
       "   EstimatedSalary  Exited  \n",
       "0        101348.88       1  \n",
       "1        112542.58       0  \n",
       "2        113931.57       1  \n",
       "3         93826.63       0  \n",
       "4         79084.10       0  "
      ]
     },
     "execution_count": 3,
     "metadata": {},
     "output_type": "execute_result"
    }
   ],
   "source": [
    "df.head()"
   ]
  },
  {
   "cell_type": "code",
   "execution_count": 4,
   "id": "ac7ad0c5",
   "metadata": {},
   "outputs": [],
   "source": [
    "X=df.iloc[:,3:-1].values #All the rows except the last one\n",
    "y=df.iloc[:,-1].values #Existed column"
   ]
  },
  {
   "cell_type": "code",
   "execution_count": 5,
   "id": "7ef796ec",
   "metadata": {},
   "outputs": [],
   "source": [
    "le=LabelEncoder()\n",
    "X[:,2]=le.fit_transform(X[:,2]) #all rows in Third column (Gender)"
   ]
  },
  {
   "cell_type": "code",
   "execution_count": 6,
   "id": "b98c2b4d",
   "metadata": {},
   "outputs": [],
   "source": [
    "from sklearn.compose import ColumnTransformer\n",
    "from sklearn.preprocessing import OneHotEncoder\n",
    "ct = ColumnTransformer(transformers=[('encoder', OneHotEncoder(), [1])], remainder='passthrough')\n",
    "X = np.array(ct.fit_transform(X))"
   ]
  },
  {
   "cell_type": "code",
   "execution_count": 7,
   "id": "566f1c7e",
   "metadata": {},
   "outputs": [],
   "source": [
    "X_train, X_test, y_train, y_test =train_test_split(X,y,test_size=0.2, random_state=0)"
   ]
  },
  {
   "cell_type": "code",
   "execution_count": 8,
   "id": "a80b15dd",
   "metadata": {},
   "outputs": [],
   "source": [
    "sc = StandardScaler() #makes the range of variable from +3 to -3\n",
    "X_train = sc.fit_transform(X_train)\n",
    "X_test = sc.transform(X_test)"
   ]
  },
  {
   "cell_type": "code",
   "execution_count": 9,
   "id": "b89936d0",
   "metadata": {},
   "outputs": [],
   "source": [
    "import tensorflow as tf"
   ]
  },
  {
   "cell_type": "code",
   "execution_count": 10,
   "id": "230ba0c0",
   "metadata": {},
   "outputs": [],
   "source": [
    "ann =tf.keras.models.Sequential()"
   ]
  },
  {
   "cell_type": "code",
   "execution_count": 11,
   "id": "9218f1e9",
   "metadata": {},
   "outputs": [],
   "source": [
    "ann.add(tf.keras.layers.Dense(units=6,activation='relu'))\n",
    "ann.add(tf.keras.layers.Dense(units=6,activation='relu'))"
   ]
  },
  {
   "cell_type": "code",
   "execution_count": 12,
   "id": "59a03d69",
   "metadata": {},
   "outputs": [],
   "source": [
    "ann.add(tf.keras.layers.Dense(units=1,activation='sigmoid'))"
   ]
  },
  {
   "cell_type": "code",
   "execution_count": 13,
   "id": "06a0218e",
   "metadata": {},
   "outputs": [],
   "source": [
    "ann.compile(optimizer='adam',loss='binary_crossentropy', metrics=['accuracy'])"
   ]
  },
  {
   "cell_type": "code",
   "execution_count": 14,
   "id": "cf60129c",
   "metadata": {
    "scrolled": false
   },
   "outputs": [
    {
     "name": "stdout",
     "output_type": "stream",
     "text": [
      "Epoch 1/100\n",
      "250/250 [==============================] - 2s 4ms/step - loss: 0.6006 - accuracy: 0.7259\n",
      "Epoch 2/100\n",
      "250/250 [==============================] - 1s 5ms/step - loss: 0.4753 - accuracy: 0.7964\n",
      "Epoch 3/100\n",
      "250/250 [==============================] - 1s 5ms/step - loss: 0.4470 - accuracy: 0.7997\n",
      "Epoch 4/100\n",
      "250/250 [==============================] - 1s 6ms/step - loss: 0.4356 - accuracy: 0.8025\n",
      "Epoch 5/100\n",
      "250/250 [==============================] - 2s 7ms/step - loss: 0.4273 - accuracy: 0.8092\n",
      "Epoch 6/100\n",
      "250/250 [==============================] - 2s 7ms/step - loss: 0.4202 - accuracy: 0.8133\n",
      "Epoch 7/100\n",
      "250/250 [==============================] - 1s 6ms/step - loss: 0.4139 - accuracy: 0.8191\n",
      "Epoch 8/100\n",
      "250/250 [==============================] - 1s 4ms/step - loss: 0.4076 - accuracy: 0.8225\n",
      "Epoch 9/100\n",
      "250/250 [==============================] - 1s 5ms/step - loss: 0.4022 - accuracy: 0.8281\n",
      "Epoch 10/100\n",
      "250/250 [==============================] - 2s 6ms/step - loss: 0.3969 - accuracy: 0.8320\n",
      "Epoch 11/100\n",
      "250/250 [==============================] - 2s 6ms/step - loss: 0.3913 - accuracy: 0.8346\n",
      "Epoch 12/100\n",
      "250/250 [==============================] - 1s 4ms/step - loss: 0.3854 - accuracy: 0.8382\n",
      "Epoch 13/100\n",
      "250/250 [==============================] - 1s 5ms/step - loss: 0.3798 - accuracy: 0.8418\n",
      "Epoch 14/100\n",
      "250/250 [==============================] - 1s 4ms/step - loss: 0.3745 - accuracy: 0.8459\n",
      "Epoch 15/100\n",
      "250/250 [==============================] - 1s 5ms/step - loss: 0.3693 - accuracy: 0.8500\n",
      "Epoch 16/100\n",
      "250/250 [==============================] - 2s 6ms/step - loss: 0.3646 - accuracy: 0.8533\n",
      "Epoch 17/100\n",
      "250/250 [==============================] - 2s 7ms/step - loss: 0.3607 - accuracy: 0.8553\n",
      "Epoch 18/100\n",
      "250/250 [==============================] - 2s 6ms/step - loss: 0.3581 - accuracy: 0.8568\n",
      "Epoch 19/100\n",
      "250/250 [==============================] - 1s 6ms/step - loss: 0.3552 - accuracy: 0.8584\n",
      "Epoch 20/100\n",
      "250/250 [==============================] - 1s 5ms/step - loss: 0.3531 - accuracy: 0.8583\n",
      "Epoch 21/100\n",
      "250/250 [==============================] - 2s 7ms/step - loss: 0.3523 - accuracy: 0.8586\n",
      "Epoch 22/100\n",
      "250/250 [==============================] - 1s 6ms/step - loss: 0.3511 - accuracy: 0.8570\n",
      "Epoch 23/100\n",
      "250/250 [==============================] - 1s 3ms/step - loss: 0.3509 - accuracy: 0.8574\n",
      "Epoch 24/100\n",
      "250/250 [==============================] - 1s 5ms/step - loss: 0.3494 - accuracy: 0.8581\n",
      "Epoch 25/100\n",
      "250/250 [==============================] - 1s 5ms/step - loss: 0.3492 - accuracy: 0.8595\n",
      "Epoch 26/100\n",
      "250/250 [==============================] - 2s 7ms/step - loss: 0.3485 - accuracy: 0.8583\n",
      "Epoch 27/100\n",
      "250/250 [==============================] - 2s 7ms/step - loss: 0.3477 - accuracy: 0.8591\n",
      "Epoch 28/100\n",
      "250/250 [==============================] - 2s 7ms/step - loss: 0.3481 - accuracy: 0.8585\n",
      "Epoch 29/100\n",
      "250/250 [==============================] - 2s 7ms/step - loss: 0.3473 - accuracy: 0.8591\n",
      "Epoch 30/100\n",
      "250/250 [==============================] - 2s 7ms/step - loss: 0.3471 - accuracy: 0.8605\n",
      "Epoch 31/100\n",
      "250/250 [==============================] - 1s 6ms/step - loss: 0.3463 - accuracy: 0.8584\n",
      "Epoch 32/100\n",
      "250/250 [==============================] - 2s 6ms/step - loss: 0.3459 - accuracy: 0.8590\n",
      "Epoch 33/100\n",
      "250/250 [==============================] - 1s 3ms/step - loss: 0.3460 - accuracy: 0.8579\n",
      "Epoch 34/100\n",
      "250/250 [==============================] - 1s 3ms/step - loss: 0.3451 - accuracy: 0.8596\n",
      "Epoch 35/100\n",
      "250/250 [==============================] - 1s 5ms/step - loss: 0.3450 - accuracy: 0.8585\n",
      "Epoch 36/100\n",
      "250/250 [==============================] - 1s 6ms/step - loss: 0.3451 - accuracy: 0.8596\n",
      "Epoch 37/100\n",
      "250/250 [==============================] - 2s 6ms/step - loss: 0.3447 - accuracy: 0.8589\n",
      "Epoch 38/100\n",
      "250/250 [==============================] - 2s 7ms/step - loss: 0.3442 - accuracy: 0.8608\n",
      "Epoch 39/100\n",
      "250/250 [==============================] - 2s 7ms/step - loss: 0.3438 - accuracy: 0.8594\n",
      "Epoch 40/100\n",
      "250/250 [==============================] - 2s 7ms/step - loss: 0.3438 - accuracy: 0.8599\n",
      "Epoch 41/100\n",
      "250/250 [==============================] - 2s 7ms/step - loss: 0.3436 - accuracy: 0.8595\n",
      "Epoch 42/100\n",
      "250/250 [==============================] - 2s 7ms/step - loss: 0.3429 - accuracy: 0.8601\n",
      "Epoch 43/100\n",
      "250/250 [==============================] - 1s 4ms/step - loss: 0.3428 - accuracy: 0.8609\n",
      "Epoch 44/100\n",
      "250/250 [==============================] - 1s 4ms/step - loss: 0.3420 - accuracy: 0.8606\n",
      "Epoch 45/100\n",
      "250/250 [==============================] - 1s 3ms/step - loss: 0.3417 - accuracy: 0.8587\n",
      "Epoch 46/100\n",
      "250/250 [==============================] - 1s 5ms/step - loss: 0.3412 - accuracy: 0.8614\n",
      "Epoch 47/100\n",
      "250/250 [==============================] - 1s 6ms/step - loss: 0.3407 - accuracy: 0.8625\n",
      "Epoch 48/100\n",
      "250/250 [==============================] - 2s 6ms/step - loss: 0.3408 - accuracy: 0.8611\n",
      "Epoch 49/100\n",
      "250/250 [==============================] - 1s 6ms/step - loss: 0.3404 - accuracy: 0.8611\n",
      "Epoch 50/100\n",
      "250/250 [==============================] - 1s 6ms/step - loss: 0.3402 - accuracy: 0.8606\n",
      "Epoch 51/100\n",
      "250/250 [==============================] - 1s 6ms/step - loss: 0.3395 - accuracy: 0.8611\n",
      "Epoch 52/100\n",
      "250/250 [==============================] - 1s 5ms/step - loss: 0.3391 - accuracy: 0.8622\n",
      "Epoch 53/100\n",
      "250/250 [==============================] - 1s 6ms/step - loss: 0.3390 - accuracy: 0.8621\n",
      "Epoch 54/100\n",
      "250/250 [==============================] - 2s 6ms/step - loss: 0.3388 - accuracy: 0.8621\n",
      "Epoch 55/100\n",
      "250/250 [==============================] - 2s 6ms/step - loss: 0.3382 - accuracy: 0.8630\n",
      "Epoch 56/100\n",
      "250/250 [==============================] - 2s 6ms/step - loss: 0.3382 - accuracy: 0.8621\n",
      "Epoch 57/100\n",
      "250/250 [==============================] - 1s 4ms/step - loss: 0.3380 - accuracy: 0.8609\n",
      "Epoch 58/100\n",
      "250/250 [==============================] - 1s 6ms/step - loss: 0.3374 - accuracy: 0.8624\n",
      "Epoch 59/100\n",
      "250/250 [==============================] - 1s 5ms/step - loss: 0.3375 - accuracy: 0.8622\n",
      "Epoch 60/100\n",
      "250/250 [==============================] - 1s 5ms/step - loss: 0.3370 - accuracy: 0.8640\n",
      "Epoch 61/100\n",
      "250/250 [==============================] - 2s 7ms/step - loss: 0.3367 - accuracy: 0.8625\n",
      "Epoch 62/100\n",
      "250/250 [==============================] - 2s 6ms/step - loss: 0.3363 - accuracy: 0.8639\n",
      "Epoch 63/100\n",
      "250/250 [==============================] - 1s 6ms/step - loss: 0.3361 - accuracy: 0.8620\n",
      "Epoch 64/100\n",
      "250/250 [==============================] - 1s 6ms/step - loss: 0.3358 - accuracy: 0.8627\n",
      "Epoch 65/100\n",
      "250/250 [==============================] - 1s 6ms/step - loss: 0.3355 - accuracy: 0.8634\n",
      "Epoch 66/100\n",
      "250/250 [==============================] - 1s 6ms/step - loss: 0.3354 - accuracy: 0.8626\n",
      "Epoch 67/100\n",
      "250/250 [==============================] - 1s 3ms/step - loss: 0.3354 - accuracy: 0.8633\n",
      "Epoch 68/100\n",
      "250/250 [==============================] - 1s 3ms/step - loss: 0.3352 - accuracy: 0.8626\n",
      "Epoch 69/100\n",
      "250/250 [==============================] - 1s 5ms/step - loss: 0.3350 - accuracy: 0.8637\n",
      "Epoch 70/100\n",
      "250/250 [==============================] - 1s 5ms/step - loss: 0.3348 - accuracy: 0.8641\n",
      "Epoch 71/100\n",
      "250/250 [==============================] - 2s 6ms/step - loss: 0.3344 - accuracy: 0.8645\n",
      "Epoch 72/100\n",
      "250/250 [==============================] - 1s 6ms/step - loss: 0.3342 - accuracy: 0.8630\n",
      "Epoch 73/100\n",
      "250/250 [==============================] - 1s 6ms/step - loss: 0.3341 - accuracy: 0.8635\n",
      "Epoch 74/100\n",
      "250/250 [==============================] - 1s 5ms/step - loss: 0.3338 - accuracy: 0.8640\n",
      "Epoch 75/100\n",
      "250/250 [==============================] - 2s 7ms/step - loss: 0.3334 - accuracy: 0.8640\n",
      "Epoch 76/100\n",
      "250/250 [==============================] - 2s 6ms/step - loss: 0.3332 - accuracy: 0.8634\n",
      "Epoch 77/100\n",
      "250/250 [==============================] - 2s 7ms/step - loss: 0.3331 - accuracy: 0.8639\n",
      "Epoch 78/100\n",
      "250/250 [==============================] - 1s 6ms/step - loss: 0.3326 - accuracy: 0.8641\n",
      "Epoch 79/100\n",
      "250/250 [==============================] - 1s 3ms/step - loss: 0.3330 - accuracy: 0.8634\n",
      "Epoch 80/100\n",
      "250/250 [==============================] - 1s 4ms/step - loss: 0.3328 - accuracy: 0.8651\n",
      "Epoch 81/100\n"
     ]
    },
    {
     "name": "stdout",
     "output_type": "stream",
     "text": [
      "250/250 [==============================] - 1s 4ms/step - loss: 0.3322 - accuracy: 0.8652\n",
      "Epoch 82/100\n",
      "250/250 [==============================] - 1s 6ms/step - loss: 0.3318 - accuracy: 0.8641\n",
      "Epoch 83/100\n",
      "250/250 [==============================] - 2s 6ms/step - loss: 0.3322 - accuracy: 0.8631\n",
      "Epoch 84/100\n",
      "250/250 [==============================] - 1s 6ms/step - loss: 0.3316 - accuracy: 0.8654\n",
      "Epoch 85/100\n",
      "250/250 [==============================] - 1s 6ms/step - loss: 0.3315 - accuracy: 0.8644\n",
      "Epoch 86/100\n",
      "250/250 [==============================] - 1s 6ms/step - loss: 0.3315 - accuracy: 0.8640\n",
      "Epoch 87/100\n",
      "250/250 [==============================] - 1s 6ms/step - loss: 0.3312 - accuracy: 0.8660\n",
      "Epoch 88/100\n",
      "250/250 [==============================] - 1s 6ms/step - loss: 0.3317 - accuracy: 0.8636\n",
      "Epoch 89/100\n",
      "250/250 [==============================] - 1s 6ms/step - loss: 0.3311 - accuracy: 0.8645\n",
      "Epoch 90/100\n",
      "250/250 [==============================] - 2s 6ms/step - loss: 0.3311 - accuracy: 0.8646\n",
      "Epoch 91/100\n",
      "250/250 [==============================] - 1s 4ms/step - loss: 0.3307 - accuracy: 0.8665\n",
      "Epoch 92/100\n",
      "250/250 [==============================] - 1s 4ms/step - loss: 0.3307 - accuracy: 0.8648\n",
      "Epoch 93/100\n",
      "250/250 [==============================] - 1s 4ms/step - loss: 0.3306 - accuracy: 0.8666\n",
      "Epoch 94/100\n",
      "250/250 [==============================] - 1s 4ms/step - loss: 0.3306 - accuracy: 0.8651\n",
      "Epoch 95/100\n",
      "250/250 [==============================] - 1s 6ms/step - loss: 0.3307 - accuracy: 0.8661\n",
      "Epoch 96/100\n",
      "250/250 [==============================] - 1s 3ms/step - loss: 0.3306 - accuracy: 0.8656\n",
      "Epoch 97/100\n",
      "250/250 [==============================] - 1s 3ms/step - loss: 0.3308 - accuracy: 0.8636\n",
      "Epoch 98/100\n",
      "250/250 [==============================] - 1s 3ms/step - loss: 0.3304 - accuracy: 0.8654\n",
      "Epoch 99/100\n",
      "250/250 [==============================] - 1s 3ms/step - loss: 0.3305 - accuracy: 0.8644\n",
      "Epoch 100/100\n",
      "250/250 [==============================] - 1s 4ms/step - loss: 0.3301 - accuracy: 0.8654\n"
     ]
    },
    {
     "data": {
      "text/plain": [
       "<keras.callbacks.History at 0x1f1cb86e670>"
      ]
     },
     "execution_count": 14,
     "metadata": {},
     "output_type": "execute_result"
    }
   ],
   "source": [
    "ann.fit(X_train, y_train, batch_size=32, epochs=100)"
   ]
  },
  {
   "cell_type": "code",
   "execution_count": 15,
   "id": "c05995c3",
   "metadata": {},
   "outputs": [
    {
     "name": "stdout",
     "output_type": "stream",
     "text": [
      "1/1 [==============================] - 0s 459ms/step\n",
      "[[False]]\n"
     ]
    }
   ],
   "source": [
    "print(ann.predict(sc.transform([[1,0,0,600,1,40,3,60000,2,1,1,50000]])) > 0.5)"
   ]
  },
  {
   "cell_type": "code",
   "execution_count": 17,
   "id": "ca6efd87",
   "metadata": {},
   "outputs": [
    {
     "name": "stdout",
     "output_type": "stream",
     "text": [
      "63/63 [==============================] - 0s 1ms/step\n"
     ]
    }
   ],
   "source": [
    "y_pred=ann.predict(X_test)\n",
    "y_pred = (y_pred >0.5)"
   ]
  },
  {
   "cell_type": "code",
   "execution_count": 18,
   "id": "519a1edf",
   "metadata": {},
   "outputs": [
    {
     "name": "stdout",
     "output_type": "stream",
     "text": [
      "[[0 0]\n",
      " [0 1]\n",
      " [0 0]\n",
      " ...\n",
      " [0 0]\n",
      " [0 0]\n",
      " [0 0]]\n"
     ]
    }
   ],
   "source": [
    "print(np.concatenate((y_pred.reshape(len(y_pred),1), y_test.reshape(len(y_test),1)),1))"
   ]
  },
  {
   "cell_type": "code",
   "execution_count": 19,
   "id": "7e050459",
   "metadata": {},
   "outputs": [
    {
     "name": "stdout",
     "output_type": "stream",
     "text": [
      "[[1533   62]\n",
      " [ 215  190]]\n"
     ]
    },
    {
     "data": {
      "text/plain": [
       "0.8615"
      ]
     },
     "execution_count": 19,
     "metadata": {},
     "output_type": "execute_result"
    }
   ],
   "source": [
    "cm = confusion_matrix(y_test, y_pred)\n",
    "print(cm)\n",
    "accuracy_score(y_test, y_pred)"
   ]
  },
  {
   "cell_type": "code",
   "execution_count": null,
   "id": "885442ab",
   "metadata": {},
   "outputs": [],
   "source": []
  },
  {
   "cell_type": "code",
   "execution_count": null,
   "id": "49c695af",
   "metadata": {},
   "outputs": [],
   "source": []
  },
  {
   "cell_type": "code",
   "execution_count": null,
   "id": "e72e87c7",
   "metadata": {},
   "outputs": [],
   "source": []
  },
  {
   "cell_type": "code",
   "execution_count": null,
   "id": "87e33ccf",
   "metadata": {},
   "outputs": [],
   "source": []
  }
 ],
 "metadata": {
  "kernelspec": {
   "display_name": "Python 3 (ipykernel)",
   "language": "python",
   "name": "python3"
  },
  "language_info": {
   "codemirror_mode": {
    "name": "ipython",
    "version": 3
   },
   "file_extension": ".py",
   "mimetype": "text/x-python",
   "name": "python",
   "nbconvert_exporter": "python",
   "pygments_lexer": "ipython3",
   "version": "3.9.7"
  }
 },
 "nbformat": 4,
 "nbformat_minor": 5
}

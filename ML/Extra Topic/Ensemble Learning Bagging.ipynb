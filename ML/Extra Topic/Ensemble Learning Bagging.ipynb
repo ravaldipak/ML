{
 "cells": [
  {
   "cell_type": "markdown",
   "id": "6df05055",
   "metadata": {},
   "source": [
    "# Ensemble Learning"
   ]
  },
  {
   "cell_type": "code",
   "execution_count": 1,
   "id": "2c0c1fde",
   "metadata": {},
   "outputs": [],
   "source": [
    "import numpy as np \n",
    "import pandas as pd\n",
    "import matplotlib.pyplot as plt\n",
    "from sklearn.ensemble import RandomForestClassifier, VotingClassifier, BaggingClassifier, ExtraTreesClassifier\n",
    "from sklearn.ensemble import BaggingRegressor, RandomForestRegressor, ExtraTreesRegressor\n",
    "from sklearn.svm import SVC\n",
    "from sklearn.linear_model import LogisticRegression, LinearRegression\n",
    "from sklearn.model_selection import GridSearchCV\n",
    "from sklearn.preprocessing import StandardScaler\n",
    "from sklearn.model_selection import train_test_split\n",
    "from sklearn.metrics import precision_score, accuracy_score"
   ]
  },
  {
   "cell_type": "code",
   "execution_count": 2,
   "id": "1227193b",
   "metadata": {},
   "outputs": [],
   "source": [
    "wineData = pd.read_csv('winequality-red.csv')\n",
    "\n",
    "wineData['category'] = (wineData['quality'] >= 7)\n",
    "\n",
    "X = wineData[wineData.columns[0:11]].values\n",
    "y = wineData['category'].values.astype(np.int32)"
   ]
  },
  {
   "cell_type": "code",
   "execution_count": 3,
   "id": "4eda4696",
   "metadata": {},
   "outputs": [
    {
     "name": "stdout",
     "output_type": "stream",
     "text": [
      "X train size:  (1119, 11)\n",
      "y train size:  (1119,)\n",
      "X test size:  (480, 11)\n",
      "y test size:  (480,)\n"
     ]
    }
   ],
   "source": [
    "X_train, X_test, y_train, y_test = train_test_split(X, y, test_size=0.30, random_state=42)\n",
    "\n",
    "print('X train size: ', X_train.shape)\n",
    "print('y train size: ', y_train.shape)\n",
    "print('X test size: ', X_test.shape)\n",
    "print('y test size: ', y_test.shape)"
   ]
  },
  {
   "cell_type": "code",
   "execution_count": 4,
   "id": "0f47037b",
   "metadata": {},
   "outputs": [],
   "source": [
    "scaler = StandardScaler()\n",
    "X_train_stan = scaler.fit_transform(X_train)"
   ]
  },
  {
   "cell_type": "code",
   "execution_count": 5,
   "id": "29236f94",
   "metadata": {},
   "outputs": [
    {
     "name": "stdout",
     "output_type": "stream",
     "text": [
      "precision on the test set:  0.5263157894736842\n",
      "accuracy on the test set:  0.8645833333333334\n"
     ]
    }
   ],
   "source": [
    "logReg = LogisticRegression(random_state=0, solver='lbfgs')\n",
    "logReg.fit(X_train_stan, y_train)\n",
    "\n",
    "X_test_stan = scaler.transform(X_test)\n",
    "y_pred = logReg.predict(X_test_stan)\n",
    "\n",
    "print('precision on the test set: ', precision_score(y_test, y_pred))\n",
    "print('accuracy on the test set: ', accuracy_score(y_test, y_pred))"
   ]
  },
  {
   "cell_type": "code",
   "execution_count": 6,
   "id": "d63e0512",
   "metadata": {},
   "outputs": [],
   "source": [
    "bagClf = BaggingClassifier(LogisticRegression(random_state=0, solver='lbfgs'), n_estimators = 500, oob_score = True, random_state = 90)"
   ]
  },
  {
   "cell_type": "code",
   "execution_count": 7,
   "id": "1ea0341d",
   "metadata": {},
   "outputs": [
    {
     "name": "stdout",
     "output_type": "stream",
     "text": [
      "0.8784629133154602\n"
     ]
    }
   ],
   "source": [
    "bagClf.fit(X_train_stan, y_train)\n",
    "print(bagClf.oob_score_)"
   ]
  },
  {
   "cell_type": "code",
   "execution_count": 8,
   "id": "c75b4e11",
   "metadata": {},
   "outputs": [
    {
     "name": "stdout",
     "output_type": "stream",
     "text": [
      "precision on the test set:  0.5405405405405406\n",
      "accuracy on the test set:  0.8666666666666667\n"
     ]
    }
   ],
   "source": [
    "y_pred = bagClf.predict(X_test_stan)\n",
    "phat = bagClf.predict_proba(X_test_stan)[:,1]\n",
    "\n",
    "print('precision on the test set: ', precision_score(y_test, y_pred))\n",
    "print('accuracy on the test set: ', accuracy_score(y_test, y_pred))"
   ]
  }
 ],
 "metadata": {
  "kernelspec": {
   "display_name": "Python 3 (ipykernel)",
   "language": "python",
   "name": "python3"
  },
  "language_info": {
   "codemirror_mode": {
    "name": "ipython",
    "version": 3
   },
   "file_extension": ".py",
   "mimetype": "text/x-python",
   "name": "python",
   "nbconvert_exporter": "python",
   "pygments_lexer": "ipython3",
   "version": "3.9.7"
  }
 },
 "nbformat": 4,
 "nbformat_minor": 5
}

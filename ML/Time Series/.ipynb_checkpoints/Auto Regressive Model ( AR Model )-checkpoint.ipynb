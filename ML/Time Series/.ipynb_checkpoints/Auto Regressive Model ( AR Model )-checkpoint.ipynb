{
 "cells": [
  {
   "cell_type": "markdown",
   "id": "1c63d87d",
   "metadata": {},
   "source": [
    "# AR Model ( Auto Regressive )"
   ]
  },
  {
   "cell_type": "markdown",
   "id": "e1fe5138",
   "metadata": {},
   "source": [
    "### AR model predicts future behavior based on past behavior\n",
    "- there is some correlation between value in time series and value\n",
    "- you only use past data to model the behaviorm thence the name autoregressive\n",
    "\n",
    "#### Assumotion in any time series techniques\n",
    "- Statinoarity\n",
    "- AutoCurrection\n",
    "\n",
    "#### Statioanity\n",
    "- Je series no mean, variance, and auto correlation time sathe change thy te satationary\n",
    "- Mean,variance, and autocurrection is changing with time"
   ]
  },
  {
   "cell_type": "markdown",
   "id": "e320879d",
   "metadata": {},
   "source": [
    "# Convert Non Stationary to Stationary\n",
    "\n",
    "## Test to check series is stationary or not\n",
    "- KPSS - Kwiatkowski–Phillips–Schmidt–Shin\n",
    "- ADF  - Augmented Dickey Fuller\n",
    "\n",
    "#### ADF \n",
    "- Null Hypothesis : Series is not stationary\n",
    "- if P value is <= Alpha to we reject null hypothesis ( ALPHA = 0.05 )\n",
    "\n",
    "#### KPSS \n",
    "- Null Hypothesis : Series is stationary\n",
    "- if P value is >= Alpha to we fail to reject null hypothesis ( ALPHA = 0.05 )\n",
    "\n",
    "## Method to Tranfer to Statinary \n",
    "- Differencing\n",
    "- Transformation - box tox - log funcitons use kri sakye\n",
    "\n",
    "#### Differencing \n",
    "- Finding the degree of differinging the value y1-y0, y2-1, y3-y2.....so on\n",
    "- By removing changes in the level of time series\n",
    "\n",
    "\n",
    "\n",
    "## Statistical test to measure auto correlation\n",
    "- ACF  - AutoCorrelation Function - direct and indirect correlated\n",
    "- PACF - Partial AutoCorrelation Function - direct correlated\n",
    "\n",
    "### Leg \n",
    "- Shiffting by leg\n",
    "- Leg1 = shiffted by 1\n",
    "- Leg2 = Shiffted by \n",
    "\n",
    "\n"
   ]
  },
  {
   "cell_type": "markdown",
   "id": "8cf2e318",
   "metadata": {},
   "source": [
    "## Types\n",
    "- MA\n",
    "- ARMA\n",
    "- ARIMA\n",
    "- SARIMA"
   ]
  },
  {
   "cell_type": "code",
   "execution_count": null,
   "id": "c3776c65",
   "metadata": {},
   "outputs": [],
   "source": []
  }
 ],
 "metadata": {
  "kernelspec": {
   "display_name": "Python 3 (ipykernel)",
   "language": "python",
   "name": "python3"
  },
  "language_info": {
   "codemirror_mode": {
    "name": "ipython",
    "version": 3
   },
   "file_extension": ".py",
   "mimetype": "text/x-python",
   "name": "python",
   "nbconvert_exporter": "python",
   "pygments_lexer": "ipython3",
   "version": "3.9.7"
  }
 },
 "nbformat": 4,
 "nbformat_minor": 5
}

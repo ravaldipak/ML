{
 "cells": [
  {
   "cell_type": "code",
   "execution_count": 2,
   "id": "ddc32971",
   "metadata": {},
   "outputs": [],
   "source": [
    "import pandas as pd\n",
    "import numpy as np\n",
    "import matplotlib.pyplot as plt\n",
    "from sklearn.datasets import load_iris\n",
    "from sklearn.svm import SVC, SVR\n",
    "from sklearn.model_selection import train_test_split\n",
    "from sklearn.metrics import accuracy_score"
   ]
  },
  {
   "cell_type": "code",
   "execution_count": 3,
   "id": "890ef56b",
   "metadata": {},
   "outputs": [],
   "source": [
    "df = load_iris()"
   ]
  },
  {
   "cell_type": "markdown",
   "id": "bd2e231e",
   "metadata": {},
   "source": [
    "## Liner SVM"
   ]
  },
  {
   "cell_type": "code",
   "execution_count": 10,
   "id": "44cc8d2c",
   "metadata": {
    "scrolled": false
   },
   "outputs": [
    {
     "name": "stdout",
     "output_type": "stream",
     "text": [
      "Accuracy Score :  0.8666666666666667\n"
     ]
    }
   ],
   "source": [
    "X = df.data[:,:-2]\n",
    "y = df.target\n",
    "\n",
    "X_train,X_test,y_train,y_test = train_test_split(X, y, train_size=0.8 , test_size=0.2, random_state=10)\n",
    "\n",
    "svc = SVC(kernel=\"linear\",C=1,gamma=\"auto\")\n",
    "svc.fit(X_train,y_train)\n",
    "\n",
    "y_predict = svc.predict(X_test)\n",
    "y_predict\n",
    "\n",
    "\n",
    "print(\"Accuracy Score : \",accuracy_score(y_test,y_predict))"
   ]
  },
  {
   "cell_type": "markdown",
   "id": "4ad0129d",
   "metadata": {},
   "source": [
    "## Poly SVM"
   ]
  },
  {
   "cell_type": "code",
   "execution_count": 11,
   "id": "6dce854b",
   "metadata": {},
   "outputs": [
    {
     "name": "stdout",
     "output_type": "stream",
     "text": [
      "Accuracy Score :  0.8333333333333334\n"
     ]
    }
   ],
   "source": [
    "X = df.data[:,:-2]\n",
    "y = df.target\n",
    "\n",
    "X_train,X_test,y_train,y_test = train_test_split(X, y, train_size=0.8 , test_size=0.2, random_state=10)\n",
    "\n",
    "svc = SVC(kernel=\"poly\",C=1,gamma=\"auto\")\n",
    "svc.fit(X_train,y_train)\n",
    "\n",
    "y_predict = svc.predict(X_test)\n",
    "y_predict\n",
    "\n",
    "\n",
    "print(\"Accuracy Score : \",accuracy_score(y_test,y_predict))"
   ]
  },
  {
   "cell_type": "markdown",
   "id": "c6a9a32f",
   "metadata": {},
   "source": [
    "## Sigmoid SVM"
   ]
  },
  {
   "cell_type": "code",
   "execution_count": 12,
   "id": "0e8c79af",
   "metadata": {},
   "outputs": [
    {
     "name": "stdout",
     "output_type": "stream",
     "text": [
      "Accuracy Score :  0.23333333333333334\n"
     ]
    }
   ],
   "source": [
    "X = df.data[:,:-2]\n",
    "y = df.target\n",
    "\n",
    "X_train,X_test,y_train,y_test = train_test_split(X, y, train_size=0.8 , test_size=0.2, random_state=10)\n",
    "\n",
    "svc = SVC(kernel=\"sigmoid\",C=1,gamma=\"auto\")\n",
    "svc.fit(X_train,y_train)\n",
    "\n",
    "y_predict = svc.predict(X_test)\n",
    "y_predict\n",
    "\n",
    "\n",
    "print(\"Accuracy Score : \",accuracy_score(y_test,y_predict))"
   ]
  }
 ],
 "metadata": {
  "kernelspec": {
   "display_name": "Python 3 (ipykernel)",
   "language": "python",
   "name": "python3"
  },
  "language_info": {
   "codemirror_mode": {
    "name": "ipython",
    "version": 3
   },
   "file_extension": ".py",
   "mimetype": "text/x-python",
   "name": "python",
   "nbconvert_exporter": "python",
   "pygments_lexer": "ipython3",
   "version": "3.9.7"
  }
 },
 "nbformat": 4,
 "nbformat_minor": 5
}

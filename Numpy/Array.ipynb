{
 "cells": [
  {
   "cell_type": "code",
   "execution_count": 2,
   "id": "4621fce3",
   "metadata": {},
   "outputs": [],
   "source": [
    "import numpy as np #--> np is alias name of numpy"
   ]
  },
  {
   "cell_type": "code",
   "execution_count": 4,
   "id": "ca44eb27",
   "metadata": {},
   "outputs": [],
   "source": [
    "x = np.array([1]) # --> Zero DArray"
   ]
  },
  {
   "cell_type": "markdown",
   "id": "70d7a0c1",
   "metadata": {},
   "source": [
    "### 1D Array"
   ]
  },
  {
   "cell_type": "code",
   "execution_count": 5,
   "id": "8b841668",
   "metadata": {},
   "outputs": [
    {
     "name": "stdout",
     "output_type": "stream",
     "text": [
      "[1 2 3 4 5 6]\n"
     ]
    }
   ],
   "source": [
    "arr1 = np.array([1,2,3,4,5,6])\n",
    "print(arr1)"
   ]
  },
  {
   "cell_type": "markdown",
   "id": "c231d5bc",
   "metadata": {},
   "source": [
    "### 2D Array"
   ]
  },
  {
   "cell_type": "code",
   "execution_count": 6,
   "id": "3a666bed",
   "metadata": {},
   "outputs": [
    {
     "name": "stdout",
     "output_type": "stream",
     "text": [
      "[[1 2 3]\n",
      " [4 5 6]\n",
      " [7 8 9]]\n"
     ]
    }
   ],
   "source": [
    "arr2 = np.array([[1,2,3],[4,5,6],[7,8,9]])\n",
    "print(arr2)"
   ]
  },
  {
   "cell_type": "markdown",
   "id": "e9ab8a77",
   "metadata": {},
   "source": [
    "### 3D Array"
   ]
  },
  {
   "cell_type": "code",
   "execution_count": 7,
   "id": "9440ddd2",
   "metadata": {},
   "outputs": [
    {
     "name": "stdout",
     "output_type": "stream",
     "text": [
      "[[[1 2 3]\n",
      "  [4 5 6]\n",
      "  [7 8 9]]\n",
      "\n",
      " [[1 2 3]\n",
      "  [4 5 6]\n",
      "  [7 8 9]]\n",
      "\n",
      " [[1 2 3]\n",
      "  [4 5 6]\n",
      "  [7 8 9]]]\n"
     ]
    }
   ],
   "source": [
    "arr3 = np.array([ [[1,2,3],[4,5,6],[7,8,9]] , [[1,2,3],[4,5,6],[7,8,9]] , [[1,2,3],[4,5,6],[7,8,9]]  ])\n",
    "print(arr3) "
   ]
  },
  {
   "cell_type": "markdown",
   "id": "4ccde831",
   "metadata": {},
   "source": [
    "### Making array using Lists"
   ]
  },
  {
   "cell_type": "code",
   "execution_count": 8,
   "id": "25349ce0",
   "metadata": {},
   "outputs": [
    {
     "name": "stdout",
     "output_type": "stream",
     "text": [
      "1D ArraY : ['A' 'B' 'C']\n",
      "<class 'numpy.ndarray'>\n",
      "<U1\n",
      "(3,)\n",
      "------------------------\n",
      "------------------------\n",
      "2D ArraY :\n",
      "\n",
      "[['A' 'B' 'C']\n",
      " ['D' 'E' 'F']\n",
      " ['G' 'H' 'I']]\n",
      "<class 'numpy.ndarray'>\n",
      "<U1\n",
      "(3, 3)\n",
      "------------------------\n",
      "------------------------\n",
      "3D ArraY :\n",
      "\n",
      "[[['A' 'B' 'C']\n",
      "  ['D' 'E' 'F']\n",
      "  ['G' 'H' 'I']]\n",
      "\n",
      " [['A' 'B' 'C']\n",
      "  ['D' 'E' 'F']\n",
      "  ['G' 'H' 'I']]\n",
      "\n",
      " [['A' 'B' 'C']\n",
      "  ['D' 'E' 'F']\n",
      "  ['G' 'H' 'I']]]\n",
      "<class 'numpy.ndarray'>\n",
      "<U1\n",
      "(3, 3, 3)\n"
     ]
    }
   ],
   "source": [
    "lst1 = ['A','B','C']\n",
    "lst2 = ['D','E','F']\n",
    "lst3 = ['G','H','I']\n",
    "lst4 = ['G','H','I','J']\n",
    "\n",
    "#1D array\n",
    "arr1D = np.array(lst1)\n",
    "print(\"1D ArraY :\",end=\" \")\n",
    "print(arr1D)\n",
    "print(type(arr1D))\n",
    "print(arr1D.dtype)\n",
    "print(arr1D.shape)\n",
    "\n",
    "print(\"------------------------\")\n",
    "print(\"------------------------\")\n",
    "\n",
    "\n",
    "#2D Array\n",
    "arr2D = np.array([ lst1,lst2,lst3 ])\n",
    "print(\"2D ArraY :\",end=\"\\n\\n\")\n",
    "print(arr2D)\n",
    "print(type(arr2D))\n",
    "print(arr2D.dtype)\n",
    "print(arr2D.shape)\n",
    "\n",
    "print(\"------------------------\")\n",
    "print(\"------------------------\")\n",
    "\n",
    "\n",
    "#3D Array\n",
    "arr3D = np.array([ [ lst1,lst2,lst3 ] , [ lst1,lst2,lst3 ] , [ lst1,lst2,lst3 ] ])\n",
    "print(\"3D ArraY :\",end=\"\\n\\n\")\n",
    "print(arr3D)\n",
    "print(type(arr3D))\n",
    "print(arr3D.dtype)\n",
    "print(arr3D.shape)\n",
    "\n"
   ]
  },
  {
   "cell_type": "markdown",
   "id": "b261aef8",
   "metadata": {},
   "source": [
    "### Accessing Array"
   ]
  },
  {
   "cell_type": "code",
   "execution_count": 9,
   "id": "1c3ef170",
   "metadata": {},
   "outputs": [
    {
     "name": "stdout",
     "output_type": "stream",
     "text": [
      "E\n",
      "------------------------\n",
      "F\n",
      "------------------------\n",
      "[['E' 'F']\n",
      " ['H' 'I']]\n",
      "------------------------\n",
      "[[['B' 'C']\n",
      "  ['E' 'F']\n",
      "  ['H' 'I']]\n",
      "\n",
      " [['B' 'C']\n",
      "  ['E' 'F']\n",
      "  ['H' 'I']]\n",
      "\n",
      " [['B' 'C']\n",
      "  ['E' 'F']\n",
      "  ['H' 'I']]]\n",
      "------------------------\n"
     ]
    }
   ],
   "source": [
    "#1.\n",
    "print(arr3D[0,1,1])\n",
    "print(\"------------------------\")\n",
    "\n",
    "#2. \n",
    "print(arr3D[0][1][2])\n",
    "print(\"------------------------\")\n",
    "\n",
    "#3.\n",
    "print(arr3D[0,1:3,1:3])\n",
    "print(\"------------------------\")\n",
    "\n",
    "#4.\n",
    "print(arr3D[:3,0:,1:3])\n",
    "print(\"------------------------\")\n",
    "\n"
   ]
  },
  {
   "cell_type": "markdown",
   "id": "7fdd7a1c",
   "metadata": {},
   "source": [
    "### "
   ]
  },
  {
   "cell_type": "code",
   "execution_count": 10,
   "id": "d9449b68",
   "metadata": {},
   "outputs": [
    {
     "name": "stdout",
     "output_type": "stream",
     "text": [
      "[[2 3]\n",
      " [5 6]]\n",
      "------------------------\n",
      "[[1 2 3]\n",
      " [4 5 6]\n",
      " [7 8 9]]\n",
      "------------------------\n",
      "[[1 2 3]\n",
      " [4 5 6]]\n",
      "------------------------\n",
      "[[2 3]\n",
      " [5 6]\n",
      " [8 9]]\n",
      "------------------------\n",
      "[[[2 3]\n",
      "  [5 6]\n",
      "  [8 9]]\n",
      "\n",
      " [[2 3]\n",
      "  [5 6]\n",
      "  [8 9]]\n",
      "\n",
      " [[2 3]\n",
      "  [5 6]\n",
      "  [8 9]]]\n"
     ]
    }
   ],
   "source": [
    "#5.\n",
    "print(arr2[0:2,1:3])\n",
    "print(\"------------------------\")\n",
    "print(arr2)\n",
    "print(\"------------------------\")\n",
    "\n",
    "print(arr2[0:3][0:2]) #pending\n",
    "print(\"------------------------\")\n",
    "\n",
    "#6.\n",
    "print(arr2[0:3,1:3])\n",
    "print(\"------------------------\")\n",
    "\n",
    "print(arr3[0:3,0:3,1:3])"
   ]
  },
  {
   "cell_type": "code",
   "execution_count": 11,
   "id": "3efeb462",
   "metadata": {},
   "outputs": [
    {
     "name": "stdout",
     "output_type": "stream",
     "text": [
      "[[4 5 6]]\n"
     ]
    }
   ],
   "source": [
    "print(arr2[0:3][1:2])"
   ]
  },
  {
   "cell_type": "markdown",
   "id": "e4dca5dd",
   "metadata": {},
   "source": [
    "## Negative "
   ]
  },
  {
   "cell_type": "code",
   "execution_count": 24,
   "id": "ea6d290f",
   "metadata": {},
   "outputs": [
    {
     "name": "stdout",
     "output_type": "stream",
     "text": [
      "[[1 2 3]\n",
      " [4 5 6]\n",
      " [7 8 9]]\n",
      "-----------------\n",
      "9\n",
      "-----------------\n",
      "[[1 2]\n",
      " [4 5]]\n"
     ]
    }
   ],
   "source": [
    "print(arr2)\n",
    "print(\"-----------------\")\n",
    "print(arr2[-1,-1])\n",
    "print(\"-----------------\")\n",
    "print(arr2[-3:-1,-3:-1])"
   ]
  },
  {
   "cell_type": "markdown",
   "id": "9a212566",
   "metadata": {},
   "source": [
    "## Range"
   ]
  },
  {
   "cell_type": "code",
   "execution_count": 30,
   "id": "7caff25e",
   "metadata": {},
   "outputs": [
    {
     "name": "stdout",
     "output_type": "stream",
     "text": [
      "[[0 2 4 6]\n",
      " [0 2 4 6]\n",
      " [0 2 4 6]]\n"
     ]
    }
   ],
   "source": [
    "arr_range = np.array([[x for x in range(0,7,2)],[x for x in range(0,7,2)],[x for x in range(0,7,2)]])\n",
    "print(arr_range);"
   ]
  },
  {
   "cell_type": "code",
   "execution_count": 44,
   "id": "459d08ab",
   "metadata": {},
   "outputs": [
    {
     "name": "stdout",
     "output_type": "stream",
     "text": [
      "\n",
      "---------------------\n",
      "Before Reshape\n",
      "---------------------\n",
      "(4, 3)\n",
      "\n",
      "---------------------\n",
      "After Reshape\n",
      "---------------------\n",
      "[[0 2 4]\n",
      " [6 0 2]\n",
      " [4 6 0]\n",
      " [2 4 6]]\n",
      "---------------------\n",
      "Shape is  (4, 3)\n"
     ]
    }
   ],
   "source": [
    "print(\"\\n---------------------\")\n",
    "print(\"Before Reshape\")\n",
    "print(\"---------------------\")\n",
    "print(arr_range.shape)\n",
    "\n",
    "print(\"\\n---------------------\")\n",
    "print(\"After Reshape\")\n",
    "print(\"---------------------\")\n",
    "arr_range = arr_range.reshape(4,3)\n",
    "print(arr_range)\n",
    "print(\"---------------------\")\n",
    "print(\"New Shape is \", arr_range.shape)"
   ]
  },
  {
   "cell_type": "code",
   "execution_count": 47,
   "id": "4fb02ddd",
   "metadata": {},
   "outputs": [
    {
     "name": "stdout",
     "output_type": "stream",
     "text": [
      "[1 2 3 4 5 6 7]\n"
     ]
    },
    {
     "ename": "ValueError",
     "evalue": "cannot reshape array of size 7 into shape (2,3)",
     "output_type": "error",
     "traceback": [
      "\u001b[1;31m---------------------------------------------------------------------------\u001b[0m",
      "\u001b[1;31mValueError\u001b[0m                                Traceback (most recent call last)",
      "\u001b[1;32m~\\AppData\\Local\\Temp/ipykernel_17176/3163025822.py\u001b[0m in \u001b[0;36m<module>\u001b[1;34m\u001b[0m\n\u001b[0;32m      2\u001b[0m \u001b[0mprint\u001b[0m\u001b[1;33m(\u001b[0m\u001b[0marr_odd\u001b[0m\u001b[1;33m)\u001b[0m\u001b[1;33m\u001b[0m\u001b[1;33m\u001b[0m\u001b[0m\n\u001b[0;32m      3\u001b[0m \u001b[1;33m\u001b[0m\u001b[0m\n\u001b[1;32m----> 4\u001b[1;33m \u001b[0marr_odd\u001b[0m \u001b[1;33m=\u001b[0m \u001b[0marr_odd\u001b[0m\u001b[1;33m.\u001b[0m\u001b[0mreshape\u001b[0m\u001b[1;33m(\u001b[0m\u001b[1;36m2\u001b[0m\u001b[1;33m,\u001b[0m\u001b[1;36m3\u001b[0m\u001b[1;33m)\u001b[0m\u001b[1;33m\u001b[0m\u001b[1;33m\u001b[0m\u001b[0m\n\u001b[0m\u001b[0;32m      5\u001b[0m \u001b[0mprint\u001b[0m\u001b[1;33m(\u001b[0m\u001b[0marr_odd\u001b[0m\u001b[1;33m)\u001b[0m\u001b[1;33m\u001b[0m\u001b[1;33m\u001b[0m\u001b[0m\n",
      "\u001b[1;31mValueError\u001b[0m: cannot reshape array of size 7 into shape (2,3)"
     ]
    }
   ],
   "source": [
    "arr_odd = np.array([x for x in range(1,8)])\n",
    "print(arr_odd)\n",
    "\n",
    "arr_odd = arr_odd.reshape(2,3)\n",
    "print(arr_odd)"
   ]
  },
  {
   "cell_type": "markdown",
   "id": "fe275516",
   "metadata": {},
   "source": [
    "### With Looping"
   ]
  },
  {
   "cell_type": "code",
   "execution_count": 73,
   "id": "b00a1dbf",
   "metadata": {},
   "outputs": [
    {
     "name": "stdout",
     "output_type": "stream",
     "text": [
      "---------------\n",
      "[[0 2 4]\n",
      " [0 2 4]\n",
      " [0 2 4]]\n",
      "---------------\n",
      "arr_for[0][0] =  0\n",
      "arr_for[0][1] =  2\n",
      "arr_for[0][2] =  4\n",
      "arr_for[1][0] =  0\n",
      "arr_for[1][1] =  2\n",
      "arr_for[1][2] =  4\n",
      "arr_for[2][0] =  0\n",
      "arr_for[2][1] =  2\n",
      "arr_for[2][2] =  4\n"
     ]
    }
   ],
   "source": [
    "arr_for = np.array([[x for x in range(0,6,2)],[x for x in range(0,6,2)],[x for x in range(0,6,2)]])\n",
    "\n",
    "print(\"---------------\")\n",
    "print(arr_for)\n",
    "print(\"---------------\")\n",
    "\n",
    "for i in range(0,len(arr_for)):\n",
    "    for j in range(0,len(arr_for[i])):\n",
    "        print(\"arr_for[{0}][{1}] = \".format(i,j),arr_for[i,j])"
   ]
  },
  {
   "cell_type": "markdown",
   "id": "f83bd38a",
   "metadata": {},
   "source": [
    "### Avoid For loops for fetching array elements"
   ]
  },
  {
   "cell_type": "code",
   "execution_count": 71,
   "id": "a8fefc54",
   "metadata": {},
   "outputs": [
    {
     "name": "stdout",
     "output_type": "stream",
     "text": [
      "0 2 4 0 2 4 0 2 4 "
     ]
    }
   ],
   "source": [
    "for x in np.nditer(arr_for):\n",
    "    print(x,end=\" \")"
   ]
  },
  {
   "cell_type": "markdown",
   "id": "2bd6b16c",
   "metadata": {},
   "source": [
    "# Creating NumPy Arrays "
   ]
  },
  {
   "cell_type": "markdown",
   "id": "c856d952",
   "metadata": {},
   "source": [
    "<ul>\n",
    "    <li>np.ones(3,2)</li>\n",
    "    <li>np.zeros()</li>\n",
    "    <li>np.zeros_like()</li>\n",
    "    <li>np.arange()</li>\n",
    "    <li>np.reshape()</li>\n",
    "    <li>np.ndim</li>\n",
    "    <li>np.random.indint()</li>\n",
    "    <li>np.linspace()</li>\n",
    "    <li>np.full() Create constant Number on 'n'</li>\n",
    "    <li>np.tile()</li>\n",
    "    <li>np.eye()</li>\n",
    "</ul>"
   ]
  },
  {
   "cell_type": "code",
   "execution_count": 76,
   "id": "09652fbc",
   "metadata": {},
   "outputs": [
    {
     "name": "stdout",
     "output_type": "stream",
     "text": [
      "[[1. 1.]\n",
      " [1. 1.]\n",
      " [1. 1.]]\n"
     ]
    }
   ],
   "source": [
    "# np.ones()\n",
    "arr = np.ones(shape=(3,2))\n",
    "print(arr)"
   ]
  },
  {
   "cell_type": "code",
   "execution_count": 78,
   "id": "f2e4c6bd",
   "metadata": {},
   "outputs": [
    {
     "name": "stdout",
     "output_type": "stream",
     "text": [
      "[[0. 0. 0.]\n",
      " [0. 0. 0.]\n",
      " [0. 0. 0.]]\n"
     ]
    }
   ],
   "source": [
    "# np.zeros()\n",
    "\n",
    "arr = np.zeros(shape=(3,3))\n",
    "print(arr)"
   ]
  },
  {
   "cell_type": "code",
   "execution_count": 81,
   "id": "fa424cbf",
   "metadata": {},
   "outputs": [
    {
     "name": "stdout",
     "output_type": "stream",
     "text": [
      "[[0 0 0]\n",
      " [0 0 0]\n",
      " [0 0 0]]\n"
     ]
    }
   ],
   "source": [
    "# np.zeros_like()\n",
    "\n",
    "arr_n = [[1,2,3],[4,5,6],[7,8,9]]\n",
    "arr = np.zeros_like(arr_n)\n",
    "print(arr)"
   ]
  },
  {
   "cell_type": "code",
   "execution_count": 12,
   "id": "5d4a3b11",
   "metadata": {},
   "outputs": [
    {
     "name": "stdout",
     "output_type": "stream",
     "text": [
      "[[1 2 3]\n",
      " [4 5 6]\n",
      " [7 8 9]]\n"
     ]
    }
   ],
   "source": [
    "# np.arange()\n",
    "\n",
    "arr = np.arange(1,10)\n",
    "arr = arr.reshape(3,3)\n",
    "print(arr)"
   ]
  },
  {
   "cell_type": "code",
   "execution_count": 106,
   "id": "66666796",
   "metadata": {},
   "outputs": [
    {
     "name": "stdout",
     "output_type": "stream",
     "text": [
      "[[2 7 4]\n",
      " [9 7 4]\n",
      " [4 6 6]]\n"
     ]
    }
   ],
   "source": [
    "# np.random()\n",
    "\n",
    "arr = np.random.randint(1,10,9)\n",
    "arr = arr.reshape(3,3)\n",
    "print(arr)"
   ]
  },
  {
   "cell_type": "code",
   "execution_count": 7,
   "id": "a25a63f8",
   "metadata": {},
   "outputs": [
    {
     "name": "stdout",
     "output_type": "stream",
     "text": [
      "[[ 1.   1.6  2.2  2.8]\n",
      " [ 3.4  4.   4.6  5.2]\n",
      " [ 5.8  6.4  7.   7.6]\n",
      " [ 8.2  8.8  9.4 10. ]]\n"
     ]
    }
   ],
   "source": [
    "# np.linspace()\n",
    "\n",
    "arr = np.linspace(1,10,16)\n",
    "arr = arr.reshape(4,4)\n",
    "print(arr)"
   ]
  },
  {
   "cell_type": "code",
   "execution_count": 115,
   "id": "f186dd0d",
   "metadata": {},
   "outputs": [
    {
     "name": "stdout",
     "output_type": "stream",
     "text": [
      "[['*' '*' '*']\n",
      " ['*' '*' '*']\n",
      " ['*' '*' '*']]\n"
     ]
    }
   ],
   "source": [
    "# np.full()\n",
    "\n",
    "arr = np.full((3,3),\"*\")\n",
    "# arr = arr.reshape(3,3)\n",
    "print(arr)"
   ]
  },
  {
   "cell_type": "code",
   "execution_count": 9,
   "id": "bd442ef3",
   "metadata": {},
   "outputs": [
    {
     "name": "stdout",
     "output_type": "stream",
     "text": [
      "[3 3]\n"
     ]
    }
   ],
   "source": [
    "# np.tile()\n",
    "\n",
    "arr = np.tile(3,2)\n",
    "# arr = arr.reshape(3,3)\n",
    "print(arr)"
   ]
  },
  {
   "cell_type": "code",
   "execution_count": 25,
   "id": "fb28c40d",
   "metadata": {},
   "outputs": [
    {
     "data": {
      "text/plain": [
       "array([1, 2, 3, 1, 2, 3, 1, 2, 3])"
      ]
     },
     "execution_count": 25,
     "metadata": {},
     "output_type": "execute_result"
    }
   ],
   "source": [
    "a = np.array([[1,2,3],[1,2,3],[1,2,3]])\n",
    "b = np.array([[1,2,3],[1,2,3],[1,2,3]])\n",
    "np.subtract(a,b)\n",
    "\n",
    "a.sum()\n",
    "\n",
    "h = a.copy()\n",
    "\n",
    "i = np.transpose(a)\n",
    "\n",
    "a.ravel()"
   ]
  },
  {
   "cell_type": "code",
   "execution_count": null,
   "id": "da9f40a8",
   "metadata": {},
   "outputs": [],
   "source": []
  }
 ],
 "metadata": {
  "kernelspec": {
   "display_name": "Python 3 (ipykernel)",
   "language": "python",
   "name": "python3"
  },
  "language_info": {
   "codemirror_mode": {
    "name": "ipython",
    "version": 3
   },
   "file_extension": ".py",
   "mimetype": "text/x-python",
   "name": "python",
   "nbconvert_exporter": "python",
   "pygments_lexer": "ipython3",
   "version": "3.9.7"
  }
 },
 "nbformat": 4,
 "nbformat_minor": 5
}
